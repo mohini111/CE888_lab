{
  "nbformat": 4,
  "nbformat_minor": 0,
  "metadata": {
    "accelerator": "GPU",
    "colab": {
      "name": "Exercise_1_CNN.ipynb",
      "provenance": [],
      "collapsed_sections": [],
      "include_colab_link": true
    },
    "kernelspec": {
      "display_name": "Python 3",
      "language": "python",
      "name": "python3"
    },
    "language_info": {
      "codemirror_mode": {
        "name": "ipython",
        "version": 3
      },
      "file_extension": ".py",
      "mimetype": "text/x-python",
      "name": "python",
      "nbconvert_exporter": "python",
      "pygments_lexer": "ipython3",
      "version": "3.8.5"
    }
  },
  "cells": [
    {
      "cell_type": "markdown",
      "metadata": {
        "id": "view-in-github",
        "colab_type": "text"
      },
      "source": [
        "<a href=\"https://colab.research.google.com/github/mohini111/CE888_lab/blob/main/CNNLAB_7.ipynb\" target=\"_parent\"><img src=\"https://colab.research.google.com/assets/colab-badge.svg\" alt=\"Open In Colab\"/></a>"
      ]
    },
    {
      "cell_type": "markdown",
      "metadata": {
        "id": "vwRGEQbzGpYQ"
      },
      "source": [
        "# First CNN model for MNIST Dataset\n",
        "\n",
        "* MNIST Dataset is ''Hello World'' of Image Recognition\n",
        "\n",
        "* [Dataset HomePage](http://yann.lecun.com/exdb/mnist/)\n",
        "\n",
        "* History of MNIST Dataset [Watch here](https://www.youtube.com/watch?v=oKzNUGz21JM)\n",
        "\n",
        "\n",
        "---\n",
        "The MNIST database of handwritten digits, available from this page, has a training set of 60,000 examples, and a \n",
        "test set of 10,000 examples. It is a subset of a larger set available from NIST. The digits have been size-normalized and centered in a fixed-size image.\n",
        "\n",
        "![Kitten](https://camo.githubusercontent.com/01c057a753e92a9bc70b8c45d62b295431851c09cffadf53106fc0aea7e2843f/687474703a2f2f692e7974696d672e636f6d2f76692f3051493378675875422d512f687164656661756c742e6a7067)\n"
      ]
    },
    {
      "cell_type": "markdown",
      "metadata": {
        "id": "PhmJOHCpJD_w"
      },
      "source": [
        "# Let's start building our first CNN Model"
      ]
    },
    {
      "cell_type": "code",
      "metadata": {
        "id": "lSyHCSV7jymI"
      },
      "source": [
        "from keras import layers\n",
        "from keras import models"
      ],
      "execution_count": null,
      "outputs": []
    },
    {
      "cell_type": "markdown",
      "metadata": {
        "id": "oWNzCYUUjymN"
      },
      "source": [
        "Importantly, a convnet takes as input tensors of shape (image_height, image_width,\n",
        "image_channels) (not including the batch dimension). In this case, we’ll configure\n",
        "the convnet to process inputs of size (28, 28, 1), which is the format of MNIST\n",
        "images. We’ll do this by passing the argument input_shape=(28, 28, 1) to the first\n",
        "layer."
      ]
    },
    {
      "cell_type": "markdown",
      "metadata": {
        "id": "dM4JLEpwjymN"
      },
      "source": [
        "#### Instantiating a small convnet"
      ]
    },
    {
      "cell_type": "code",
      "metadata": {
        "colab": {
          "base_uri": "https://localhost:8080/"
        },
        "id": "p-OnpExGjymO",
        "outputId": "d6b059af-ad81-48a0-ff50-c569e59dde11"
      },
      "source": [
        "model = models.Sequential()\n",
        "model.add(layers.Conv2D(32, (3, 3), activation='relu', input_shape=(28, 28, 1)))\n",
        "model.add(layers.MaxPooling2D((2, 2)))\n",
        "model.add(layers.Conv2D(64, (3, 3), activation='relu'))\n",
        "model.add(layers.MaxPooling2D((2, 2)))\n",
        "model.add(layers.Conv2D(64, (3, 3), activation='relu'))\n",
        "model.summary()"
      ],
      "execution_count": null,
      "outputs": [
        {
          "output_type": "stream",
          "text": [
            "Model: \"sequential\"\n",
            "_________________________________________________________________\n",
            "Layer (type)                 Output Shape              Param #   \n",
            "=================================================================\n",
            "conv2d (Conv2D)              (None, 26, 26, 32)        320       \n",
            "_________________________________________________________________\n",
            "max_pooling2d (MaxPooling2D) (None, 13, 13, 32)        0         \n",
            "_________________________________________________________________\n",
            "conv2d_1 (Conv2D)            (None, 11, 11, 64)        18496     \n",
            "_________________________________________________________________\n",
            "max_pooling2d_1 (MaxPooling2 (None, 5, 5, 64)          0         \n",
            "_________________________________________________________________\n",
            "conv2d_2 (Conv2D)            (None, 3, 3, 64)          36928     \n",
            "=================================================================\n",
            "Total params: 55,744\n",
            "Trainable params: 55,744\n",
            "Non-trainable params: 0\n",
            "_________________________________________________________________\n"
          ],
          "name": "stdout"
        }
      ]
    },
    {
      "cell_type": "markdown",
      "metadata": {
        "id": "7gcVG3xkjymR"
      },
      "source": [
        "#### Adding a classifier on top of the convnet"
      ]
    },
    {
      "cell_type": "code",
      "metadata": {
        "colab": {
          "base_uri": "https://localhost:8080/"
        },
        "id": "C2DfhDJYjymR",
        "outputId": "e76d7ecc-142f-4840-eb59-46ed8111b604"
      },
      "source": [
        "model.add(layers.Flatten())\n",
        "model.add(layers.Dense(64, activation='relu'))\n",
        "model.add(layers.Dense(10, activation='softmax'))\n",
        "model.summary()"
      ],
      "execution_count": null,
      "outputs": [
        {
          "output_type": "stream",
          "text": [
            "Model: \"sequential\"\n",
            "_________________________________________________________________\n",
            "Layer (type)                 Output Shape              Param #   \n",
            "=================================================================\n",
            "conv2d (Conv2D)              (None, 26, 26, 32)        320       \n",
            "_________________________________________________________________\n",
            "max_pooling2d (MaxPooling2D) (None, 13, 13, 32)        0         \n",
            "_________________________________________________________________\n",
            "conv2d_1 (Conv2D)            (None, 11, 11, 64)        18496     \n",
            "_________________________________________________________________\n",
            "max_pooling2d_1 (MaxPooling2 (None, 5, 5, 64)          0         \n",
            "_________________________________________________________________\n",
            "conv2d_2 (Conv2D)            (None, 3, 3, 64)          36928     \n",
            "_________________________________________________________________\n",
            "flatten (Flatten)            (None, 576)               0         \n",
            "_________________________________________________________________\n",
            "dense (Dense)                (None, 64)                36928     \n",
            "_________________________________________________________________\n",
            "dense_1 (Dense)              (None, 10)                650       \n",
            "=================================================================\n",
            "Total params: 93,322\n",
            "Trainable params: 93,322\n",
            "Non-trainable params: 0\n",
            "_________________________________________________________________\n"
          ],
          "name": "stdout"
        }
      ]
    },
    {
      "cell_type": "markdown",
      "metadata": {
        "id": "NOKVF4nKjymU"
      },
      "source": [
        "### Training the convnet on MNIST images"
      ]
    },
    {
      "cell_type": "code",
      "metadata": {
        "id": "oIcgUbbUjymV"
      },
      "source": [
        "from keras.datasets import mnist\n",
        "from keras.utils import to_categorical"
      ],
      "execution_count": null,
      "outputs": []
    },
    {
      "cell_type": "markdown",
      "metadata": {
        "id": "ZnJ2Pfs_jymX"
      },
      "source": [
        "#### Load Data"
      ]
    },
    {
      "cell_type": "code",
      "metadata": {
        "id": "JpHGHE9MjymY"
      },
      "source": [
        "(train_images, train_labels), (test_images, test_labels) = mnist.load_data()\n",
        "train_images = train_images.reshape((60000, 28, 28, 1))\n",
        "train_images = train_images.astype('float32') / 255\n",
        "test_images = test_images.reshape((10000, 28, 28, 1))\n",
        "test_images = test_images.astype('float32') / 255\n",
        "train_labels = to_categorical(train_labels)\n",
        "test_labels = to_categorical(test_labels)"
      ],
      "execution_count": null,
      "outputs": []
    },
    {
      "cell_type": "markdown",
      "metadata": {
        "id": "4HoTLrfSjymd"
      },
      "source": [
        "#### compile and fit model "
      ]
    },
    {
      "cell_type": "code",
      "metadata": {
        "colab": {
          "base_uri": "https://localhost:8080/"
        },
        "id": "i23FDtC9jyme",
        "outputId": "0a018824-bd9d-4724-cefc-fe3b7ef6e9e9"
      },
      "source": [
        "model.compile(optimizer='rmsprop', \n",
        "              loss='categorical_crossentropy',\n",
        "              metrics=['accuracy'])\n",
        "history = model.fit(train_images, train_labels, epochs=5, batch_size=64, validation_split=0.2)"
      ],
      "execution_count": null,
      "outputs": [
        {
          "output_type": "stream",
          "text": [
            "Epoch 1/5\n",
            "750/750 [==============================] - 6s 5ms/step - loss: 0.4526 - accuracy: 0.8558 - val_loss: 0.0595 - val_accuracy: 0.9819\n",
            "Epoch 2/5\n",
            "750/750 [==============================] - 3s 4ms/step - loss: 0.0568 - accuracy: 0.9824 - val_loss: 0.0483 - val_accuracy: 0.9852\n",
            "Epoch 3/5\n",
            "750/750 [==============================] - 3s 4ms/step - loss: 0.0347 - accuracy: 0.9887 - val_loss: 0.0506 - val_accuracy: 0.9855\n",
            "Epoch 4/5\n",
            "750/750 [==============================] - 3s 4ms/step - loss: 0.0244 - accuracy: 0.9923 - val_loss: 0.0379 - val_accuracy: 0.9901\n",
            "Epoch 5/5\n",
            "750/750 [==============================] - 3s 4ms/step - loss: 0.0181 - accuracy: 0.9947 - val_loss: 0.0350 - val_accuracy: 0.9911\n"
          ],
          "name": "stdout"
        }
      ]
    },
    {
      "cell_type": "markdown",
      "metadata": {
        "id": "9zU8iI5ojymg"
      },
      "source": [
        "#### evaluate model"
      ]
    },
    {
      "cell_type": "code",
      "metadata": {
        "colab": {
          "base_uri": "https://localhost:8080/"
        },
        "id": "Z3VeaL1Njymh",
        "outputId": "921e94f4-392f-4776-8173-51394cc5589f"
      },
      "source": [
        "test_loss, test_acc = model.evaluate(test_images, test_labels)\n",
        "test_acc"
      ],
      "execution_count": null,
      "outputs": [
        {
          "output_type": "stream",
          "text": [
            "313/313 [==============================] - 1s 2ms/step - loss: 0.0234 - accuracy: 0.9928\n"
          ],
          "name": "stdout"
        },
        {
          "output_type": "execute_result",
          "data": {
            "text/plain": [
              "0.9927999973297119"
            ]
          },
          "metadata": {
            "tags": []
          },
          "execution_count": 7
        }
      ]
    },
    {
      "cell_type": "code",
      "metadata": {
        "colab": {
          "base_uri": "https://localhost:8080/",
          "height": 545
        },
        "id": "wXNZOY7Sjymj",
        "outputId": "abedd27c-eb17-4f3c-8f6b-036d993d3900"
      },
      "source": [
        "import matplotlib.pyplot as plt\n",
        "\n",
        "acc = history.history['accuracy']\n",
        "val_acc = history.history['val_accuracy']\n",
        "loss = history.history['loss']\n",
        "val_loss = history.history['val_loss']\n",
        "\n",
        "epochs = range(1, len(acc) + 1)\n",
        "\n",
        "plt.plot(epochs, acc, 'bo', label='Training acc')\n",
        "plt.plot(epochs, val_acc, 'b', label='Validation acc')\n",
        "plt.title('Training and validation accuracy')\n",
        "plt.legend()\n",
        "\n",
        "plt.figure()\n",
        "\n",
        "plt.plot(epochs, loss, 'bo', label='Training loss')\n",
        "plt.plot(epochs, val_loss, 'b', label='Validation loss')\n",
        "plt.title('Training and validation loss')\n",
        "plt.legend()\n",
        "\n",
        "plt.show()"
      ],
      "execution_count": null,
      "outputs": [
        {
          "output_type": "display_data",
          "data": {
            "image/png": "[encoded data removed]",
            "text/plain": [
              "<Figure size 432x288 with 1 Axes>"
            ]
          },
          "metadata": {
            "tags": [],
            "needs_background": "light"
          }
        },
        {
          "output_type": "display_data",
          "data": {
            "image/png": "[encoded data removed]",
            "text/plain": [
              "<Figure size 432x288 with 1 Axes>"
            ]
          },
          "metadata": {
            "tags": [],
            "needs_background": "light"
          }
        }
      ]
    },
    {
      "cell_type": "markdown",
      "metadata": {
        "id": "dsQMc0Iojyml"
      },
      "source": [
        "## Task 1\n",
        "\n",
        "Change the activation function and other parameters such as optimizer to see the effect on the network and it's performance. If possible create a grid search. "
      ]
    },
    {
      "cell_type": "code",
      "metadata": {
        "id": "kz-kf8YTlakz"
      },
      "source": [
        "from keras.wrappers.scikit_learn import KerasClassifier\n",
        "from sklearn.model_selection import GridSearchCV\n",
        "from tensorflow.keras import activations\n",
        "\n",
        "activation = ['relu', 'tanh']\n",
        "optimizer = ['rmsprop', 'Adam']\n",
        "\n",
        "def exercise1(activation=activation, optimizer=optimizer):\n",
        "    model = models.Sequential()\n",
        "    model.add(layers.Conv2D(32, (3,3), activation=activation, input_shape=(28, 28, 1)))\n",
        "    model.add(layers.MaxPooling2D((2, 2)))\n",
        "    model.add(layers.Conv2D(64, (3,3), activation=activation))\n",
        "    model.add(layers.MaxPooling2D((2, 2)))\n",
        "    model.add(layers.Conv2D(64, (3,3), activation=activation))\n",
        "    model.add(layers.Flatten())\n",
        "    model.add(layers.Dense(64, activation=activation))\n",
        "    model.add(layers.Dense(10, activation='softmax'))\n",
        "    model.compile(optimizer=optimizer, \n",
        "              loss='categorical_crossentropy',\n",
        "              metrics=['accuracy'])\n",
        "    return model\n",
        "\n",
        "epochs = [5, 10]\n",
        "model = KerasClassifier(build_fn=exercise1, batch_size=64, validation_split=0.2)"
      ],
      "execution_count": null,
      "outputs": []
    },
    {
      "cell_type": "code",
      "metadata": {
        "colab": {
          "base_uri": "https://localhost:8080/"
        },
        "id": "zyfHQYiyonYq",
        "outputId": "73ba3864-2815-4f04-cf6c-10351587d255"
      },
      "source": [
        "param_grid = {\n",
        "     'epochs': epochs,\n",
        "     'activation': activation,\n",
        "     'optimizer': optimizer\n",
        "}\n",
        "\n",
        "grid_search = GridSearchCV(estimator=model, param_grid=param_grid, cv=5, n_jobs=1, verbose=2)\n",
        "grid_search.fit(train_images, train_labels)"
      ],
      "execution_count": null,
      "outputs": [
        {
          "output_type": "stream",
          "text": [
            "Fitting 5 folds for each of 8 candidates, totalling 40 fits\n",
            "[CV] activation=relu, epochs=5, optimizer=rmsprop ....................\n",
            "Epoch 1/5\n"
          ],
          "name": "stdout"
        },
        {
          "output_type": "stream",
          "text": [
            "[Parallel(n_jobs=1)]: Using backend SequentialBackend with 1 concurrent workers.\n"
          ],
          "name": "stderr"
        },
        {
          "output_type": "stream",
          "text": [
            "600/600 [==============================] - 3s 5ms/step - loss: 0.5036 - accuracy: 0.8373 - val_loss: 0.0726 - val_accuracy: 0.9784\n",
            "Epoch 2/5\n",
            "600/600 [==============================] - 3s 4ms/step - loss: 0.0658 - accuracy: 0.9799 - val_loss: 0.0612 - val_accuracy: 0.9816\n",
            "Epoch 3/5\n",
            "600/600 [==============================] - 2s 4ms/step - loss: 0.0391 - accuracy: 0.9874 - val_loss: 0.0443 - val_accuracy: 0.9867\n",
            "Epoch 4/5\n",
            "600/600 [==============================] - 3s 4ms/step - loss: 0.0297 - accuracy: 0.9904 - val_loss: 0.0466 - val_accuracy: 0.9870\n",
            "Epoch 5/5\n",
            "600/600 [==============================] - 2s 4ms/step - loss: 0.0203 - accuracy: 0.9936 - val_loss: 0.0483 - val_accuracy: 0.9884\n",
            "188/188 [==============================] - 1s 3ms/step - loss: 0.0461 - accuracy: 0.9870\n",
            "[CV] ..... activation=relu, epochs=5, optimizer=rmsprop, total=  14.0s\n",
            "[CV] activation=relu, epochs=5, optimizer=rmsprop ....................\n",
            "Epoch 1/5\n"
          ],
          "name": "stdout"
        },
        {
          "output_type": "stream",
          "text": [
            "[Parallel(n_jobs=1)]: Done   1 out of   1 | elapsed:   14.0s remaining:    0.0s\n"
          ],
          "name": "stderr"
        },
        {
          "output_type": "stream",
          "text": [
            "600/600 [==============================] - 3s 5ms/step - loss: 0.5118 - accuracy: 0.8344 - val_loss: 0.0709 - val_accuracy: 0.9784\n",
            "Epoch 2/5\n",
            "600/600 [==============================] - 2s 4ms/step - loss: 0.0639 - accuracy: 0.9800 - val_loss: 0.0529 - val_accuracy: 0.9840\n",
            "Epoch 3/5\n",
            "600/600 [==============================] - 3s 4ms/step - loss: 0.0423 - accuracy: 0.9878 - val_loss: 0.0485 - val_accuracy: 0.9856\n",
            "Epoch 4/5\n",
            "600/600 [==============================] - 2s 4ms/step - loss: 0.0316 - accuracy: 0.9900 - val_loss: 0.0428 - val_accuracy: 0.9873\n",
            "Epoch 5/5\n",
            "600/600 [==============================] - 3s 4ms/step - loss: 0.0218 - accuracy: 0.9932 - val_loss: 0.0358 - val_accuracy: 0.9903\n",
            "188/188 [==============================] - 1s 3ms/step - loss: 0.0319 - accuracy: 0.9904\n",
            "[CV] ..... activation=relu, epochs=5, optimizer=rmsprop, total=  14.2s\n",
            "[CV] activation=relu, epochs=5, optimizer=rmsprop ....................\n",
            "Epoch 1/5\n",
            "600/600 [==============================] - 3s 4ms/step - loss: 0.5280 - accuracy: 0.8309 - val_loss: 0.0732 - val_accuracy: 0.9804\n",
            "Epoch 2/5\n",
            "600/600 [==============================] - 3s 4ms/step - loss: 0.0688 - accuracy: 0.9788 - val_loss: 0.0566 - val_accuracy: 0.9837\n",
            "Epoch 3/5\n",
            "600/600 [==============================] - 2s 4ms/step - loss: 0.0428 - accuracy: 0.9875 - val_loss: 0.0540 - val_accuracy: 0.9848\n",
            "Epoch 4/5\n",
            "600/600 [==============================] - 2s 4ms/step - loss: 0.0287 - accuracy: 0.9913 - val_loss: 0.0432 - val_accuracy: 0.9882\n",
            "Epoch 5/5\n",
            "600/600 [==============================] - 2s 4ms/step - loss: 0.0205 - accuracy: 0.9936 - val_loss: 0.0492 - val_accuracy: 0.9876\n",
            "188/188 [==============================] - 1s 3ms/step - loss: 0.0498 - accuracy: 0.9861\n",
            "[CV] ..... activation=relu, epochs=5, optimizer=rmsprop, total=  13.9s\n",
            "[CV] activation=relu, epochs=5, optimizer=rmsprop ....................\n",
            "Epoch 1/5\n",
            "600/600 [==============================] - 3s 4ms/step - loss: 0.5336 - accuracy: 0.8247 - val_loss: 0.0685 - val_accuracy: 0.9799\n",
            "Epoch 2/5\n",
            "600/600 [==============================] - 3s 5ms/step - loss: 0.0618 - accuracy: 0.9806 - val_loss: 0.0566 - val_accuracy: 0.9822\n",
            "Epoch 3/5\n",
            "600/600 [==============================] - 2s 4ms/step - loss: 0.0398 - accuracy: 0.9876 - val_loss: 0.0494 - val_accuracy: 0.9854\n",
            "Epoch 4/5\n",
            "600/600 [==============================] - 3s 4ms/step - loss: 0.0276 - accuracy: 0.9915 - val_loss: 0.0396 - val_accuracy: 0.9874\n",
            "Epoch 5/5\n",
            "600/600 [==============================] - 2s 4ms/step - loss: 0.0204 - accuracy: 0.9937 - val_loss: 0.0401 - val_accuracy: 0.9899\n",
            "188/188 [==============================] - 1s 3ms/step - loss: 0.0438 - accuracy: 0.9877\n",
            "[CV] ..... activation=relu, epochs=5, optimizer=rmsprop, total=  14.2s\n",
            "[CV] activation=relu, epochs=5, optimizer=rmsprop ....................\n",
            "Epoch 1/5\n",
            "600/600 [==============================] - 3s 4ms/step - loss: 0.5032 - accuracy: 0.8343 - val_loss: 0.0903 - val_accuracy: 0.9718\n",
            "Epoch 2/5\n",
            "600/600 [==============================] - 3s 4ms/step - loss: 0.0625 - accuracy: 0.9808 - val_loss: 0.0768 - val_accuracy: 0.9766\n",
            "Epoch 3/5\n",
            "600/600 [==============================] - 3s 4ms/step - loss: 0.0363 - accuracy: 0.9882 - val_loss: 0.0494 - val_accuracy: 0.9855\n",
            "Epoch 4/5\n",
            "600/600 [==============================] - 3s 4ms/step - loss: 0.0273 - accuracy: 0.9918 - val_loss: 0.0459 - val_accuracy: 0.9846\n",
            "Epoch 5/5\n",
            "600/600 [==============================] - 3s 4ms/step - loss: 0.0199 - accuracy: 0.9939 - val_loss: 0.0593 - val_accuracy: 0.9825\n",
            "188/188 [==============================] - 1s 3ms/step - loss: 0.0475 - accuracy: 0.9873\n",
            "[CV] ..... activation=relu, epochs=5, optimizer=rmsprop, total=  14.5s\n",
            "[CV] activation=relu, epochs=5, optimizer=Adam .......................\n",
            "Epoch 1/5\n",
            "600/600 [==============================] - 3s 4ms/step - loss: 0.5360 - accuracy: 0.8401 - val_loss: 0.0795 - val_accuracy: 0.9774\n",
            "Epoch 2/5\n",
            "600/600 [==============================] - 2s 4ms/step - loss: 0.0659 - accuracy: 0.9797 - val_loss: 0.0573 - val_accuracy: 0.9830\n",
            "Epoch 3/5\n",
            "600/600 [==============================] - 2s 4ms/step - loss: 0.0438 - accuracy: 0.9858 - val_loss: 0.0538 - val_accuracy: 0.9852\n",
            "Epoch 4/5\n",
            "600/600 [==============================] - 2s 4ms/step - loss: 0.0331 - accuracy: 0.9900 - val_loss: 0.0510 - val_accuracy: 0.9859\n",
            "Epoch 5/5\n",
            "600/600 [==============================] - 2s 4ms/step - loss: 0.0247 - accuracy: 0.9918 - val_loss: 0.0471 - val_accuracy: 0.9859\n",
            "188/188 [==============================] - 1s 3ms/step - loss: 0.0524 - accuracy: 0.9862\n",
            "[CV] ........ activation=relu, epochs=5, optimizer=Adam, total=  13.2s\n",
            "[CV] activation=relu, epochs=5, optimizer=Adam .......................\n",
            "Epoch 1/5\n",
            "600/600 [==============================] - 3s 4ms/step - loss: 0.5277 - accuracy: 0.8412 - val_loss: 0.0755 - val_accuracy: 0.9793\n",
            "Epoch 2/5\n",
            "600/600 [==============================] - 2s 4ms/step - loss: 0.0772 - accuracy: 0.9763 - val_loss: 0.0532 - val_accuracy: 0.9840\n",
            "Epoch 3/5\n",
            "600/600 [==============================] - 2s 4ms/step - loss: 0.0511 - accuracy: 0.9843 - val_loss: 0.0548 - val_accuracy: 0.9834\n",
            "Epoch 4/5\n",
            "600/600 [==============================] - 2s 4ms/step - loss: 0.0365 - accuracy: 0.9884 - val_loss: 0.0411 - val_accuracy: 0.9881\n",
            "Epoch 5/5\n",
            "600/600 [==============================] - 2s 4ms/step - loss: 0.0276 - accuracy: 0.9912 - val_loss: 0.0355 - val_accuracy: 0.9894\n",
            "188/188 [==============================] - 1s 3ms/step - loss: 0.0304 - accuracy: 0.9898\n",
            "[CV] ........ activation=relu, epochs=5, optimizer=Adam, total=  12.9s\n",
            "[CV] activation=relu, epochs=5, optimizer=Adam .......................\n",
            "Epoch 1/5\n",
            "600/600 [==============================] - 3s 4ms/step - loss: 0.5714 - accuracy: 0.8263 - val_loss: 0.1021 - val_accuracy: 0.9703\n",
            "Epoch 2/5\n",
            "600/600 [==============================] - 2s 4ms/step - loss: 0.0723 - accuracy: 0.9774 - val_loss: 0.0599 - val_accuracy: 0.9825\n",
            "Epoch 3/5\n",
            "600/600 [==============================] - 2s 4ms/step - loss: 0.0493 - accuracy: 0.9846 - val_loss: 0.0563 - val_accuracy: 0.9828\n",
            "Epoch 4/5\n",
            "600/600 [==============================] - 2s 4ms/step - loss: 0.0363 - accuracy: 0.9886 - val_loss: 0.0445 - val_accuracy: 0.9869\n",
            "Epoch 5/5\n",
            "600/600 [==============================] - 2s 4ms/step - loss: 0.0257 - accuracy: 0.9918 - val_loss: 0.0636 - val_accuracy: 0.9825\n",
            "188/188 [==============================] - 1s 3ms/step - loss: 0.0667 - accuracy: 0.9797\n",
            "[CV] ........ activation=relu, epochs=5, optimizer=Adam, total=  13.2s\n",
            "[CV] activation=relu, epochs=5, optimizer=Adam .......................\n",
            "Epoch 1/5\n",
            "600/600 [==============================] - 3s 4ms/step - loss: 0.5512 - accuracy: 0.8317 - val_loss: 0.0799 - val_accuracy: 0.9757\n",
            "Epoch 2/5\n",
            "600/600 [==============================] - 2s 4ms/step - loss: 0.0731 - accuracy: 0.9776 - val_loss: 0.0745 - val_accuracy: 0.9780\n",
            "Epoch 3/5\n",
            "600/600 [==============================] - 2s 4ms/step - loss: 0.0482 - accuracy: 0.9849 - val_loss: 0.0662 - val_accuracy: 0.9805\n",
            "Epoch 4/5\n",
            "600/600 [==============================] - 2s 4ms/step - loss: 0.0371 - accuracy: 0.9889 - val_loss: 0.0515 - val_accuracy: 0.9856\n",
            "Epoch 5/5\n",
            "600/600 [==============================] - 2s 4ms/step - loss: 0.0270 - accuracy: 0.9908 - val_loss: 0.0604 - val_accuracy: 0.9820\n",
            "188/188 [==============================] - 1s 3ms/step - loss: 0.0688 - accuracy: 0.9794\n",
            "[CV] ........ activation=relu, epochs=5, optimizer=Adam, total=  13.0s\n",
            "[CV] activation=relu, epochs=5, optimizer=Adam .......................\n",
            "Epoch 1/5\n",
            "600/600 [==============================] - 3s 4ms/step - loss: 0.5281 - accuracy: 0.8366 - val_loss: 0.1073 - val_accuracy: 0.9647\n",
            "Epoch 2/5\n",
            "600/600 [==============================] - 2s 4ms/step - loss: 0.0690 - accuracy: 0.9779 - val_loss: 0.0669 - val_accuracy: 0.9772\n",
            "Epoch 3/5\n",
            "600/600 [==============================] - 2s 4ms/step - loss: 0.0397 - accuracy: 0.9869 - val_loss: 0.0515 - val_accuracy: 0.9843\n",
            "Epoch 4/5\n",
            "600/600 [==============================] - 2s 4ms/step - loss: 0.0290 - accuracy: 0.9907 - val_loss: 0.0648 - val_accuracy: 0.9812\n",
            "Epoch 5/5\n",
            "600/600 [==============================] - 2s 4ms/step - loss: 0.0253 - accuracy: 0.9915 - val_loss: 0.0514 - val_accuracy: 0.9842\n",
            "188/188 [==============================] - 1s 3ms/step - loss: 0.0438 - accuracy: 0.9870\n",
            "[CV] ........ activation=relu, epochs=5, optimizer=Adam, total=  12.9s\n",
            "[CV] activation=relu, epochs=10, optimizer=rmsprop ...................\n",
            "Epoch 1/10\n",
            "600/600 [==============================] - 3s 4ms/step - loss: 0.5140 - accuracy: 0.8322 - val_loss: 0.0809 - val_accuracy: 0.9765\n",
            "Epoch 2/10\n",
            "600/600 [==============================] - 3s 4ms/step - loss: 0.0662 - accuracy: 0.9794 - val_loss: 0.0536 - val_accuracy: 0.9839\n",
            "Epoch 3/10\n",
            "600/600 [==============================] - 2s 4ms/step - loss: 0.0402 - accuracy: 0.9870 - val_loss: 0.0506 - val_accuracy: 0.9865\n",
            "Epoch 4/10\n",
            "600/600 [==============================] - 2s 4ms/step - loss: 0.0298 - accuracy: 0.9905 - val_loss: 0.0385 - val_accuracy: 0.9893\n",
            "Epoch 5/10\n",
            "600/600 [==============================] - 2s 4ms/step - loss: 0.0230 - accuracy: 0.9928 - val_loss: 0.0432 - val_accuracy: 0.9892\n",
            "Epoch 6/10\n",
            "600/600 [==============================] - 3s 4ms/step - loss: 0.0177 - accuracy: 0.9947 - val_loss: 0.0410 - val_accuracy: 0.9894\n",
            "Epoch 7/10\n",
            "600/600 [==============================] - 2s 4ms/step - loss: 0.0137 - accuracy: 0.9959 - val_loss: 0.0508 - val_accuracy: 0.9893\n",
            "Epoch 8/10\n",
            "600/600 [==============================] - 3s 4ms/step - loss: 0.0105 - accuracy: 0.9965 - val_loss: 0.0483 - val_accuracy: 0.9893\n",
            "Epoch 9/10\n",
            "600/600 [==============================] - 2s 4ms/step - loss: 0.0084 - accuracy: 0.9972 - val_loss: 0.0654 - val_accuracy: 0.9891\n",
            "Epoch 10/10\n",
            "600/600 [==============================] - 2s 4ms/step - loss: 0.0074 - accuracy: 0.9976 - val_loss: 0.0577 - val_accuracy: 0.9899\n",
            "188/188 [==============================] - 1s 3ms/step - loss: 0.0668 - accuracy: 0.9887\n",
            "[CV] .... activation=relu, epochs=10, optimizer=rmsprop, total=  26.3s\n",
            "[CV] activation=relu, epochs=10, optimizer=rmsprop ...................\n",
            "Epoch 1/10\n",
            "600/600 [==============================] - 3s 4ms/step - loss: 0.5279 - accuracy: 0.8274 - val_loss: 0.0647 - val_accuracy: 0.9812\n",
            "Epoch 2/10\n",
            "600/600 [==============================] - 2s 4ms/step - loss: 0.0662 - accuracy: 0.9802 - val_loss: 0.0451 - val_accuracy: 0.9849\n",
            "Epoch 3/10\n",
            "600/600 [==============================] - 3s 4ms/step - loss: 0.0428 - accuracy: 0.9878 - val_loss: 0.0507 - val_accuracy: 0.9847\n",
            "Epoch 4/10\n",
            "600/600 [==============================] - 3s 4ms/step - loss: 0.0294 - accuracy: 0.9912 - val_loss: 0.0423 - val_accuracy: 0.9887\n",
            "Epoch 5/10\n",
            "600/600 [==============================] - 3s 4ms/step - loss: 0.0215 - accuracy: 0.9938 - val_loss: 0.0371 - val_accuracy: 0.9894\n",
            "Epoch 6/10\n",
            "600/600 [==============================] - 3s 4ms/step - loss: 0.0195 - accuracy: 0.9937 - val_loss: 0.0515 - val_accuracy: 0.9890\n",
            "Epoch 7/10\n",
            "600/600 [==============================] - 3s 4ms/step - loss: 0.0144 - accuracy: 0.9954 - val_loss: 0.0504 - val_accuracy: 0.9884\n",
            "Epoch 8/10\n",
            "600/600 [==============================] - 2s 4ms/step - loss: 0.0108 - accuracy: 0.9963 - val_loss: 0.0415 - val_accuracy: 0.9900\n",
            "Epoch 9/10\n",
            "600/600 [==============================] - 3s 4ms/step - loss: 0.0103 - accuracy: 0.9970 - val_loss: 0.0484 - val_accuracy: 0.9904\n",
            "Epoch 10/10\n",
            "600/600 [==============================] - 3s 4ms/step - loss: 0.0084 - accuracy: 0.9969 - val_loss: 0.0433 - val_accuracy: 0.9923\n",
            "188/188 [==============================] - 1s 3ms/step - loss: 0.0340 - accuracy: 0.9926\n",
            "[CV] .... activation=relu, epochs=10, optimizer=rmsprop, total=  27.0s\n",
            "[CV] activation=relu, epochs=10, optimizer=rmsprop ...................\n",
            "Epoch 1/10\n",
            "600/600 [==============================] - 3s 4ms/step - loss: 0.5263 - accuracy: 0.8266 - val_loss: 0.0809 - val_accuracy: 0.9766\n",
            "Epoch 2/10\n",
            "600/600 [==============================] - 3s 4ms/step - loss: 0.0585 - accuracy: 0.9817 - val_loss: 0.0519 - val_accuracy: 0.9843\n",
            "Epoch 3/10\n",
            "600/600 [==============================] - 3s 4ms/step - loss: 0.0375 - accuracy: 0.9881 - val_loss: 0.0502 - val_accuracy: 0.9862\n",
            "Epoch 4/10\n",
            "600/600 [==============================] - 3s 4ms/step - loss: 0.0260 - accuracy: 0.9917 - val_loss: 0.0445 - val_accuracy: 0.9886\n",
            "Epoch 5/10\n",
            "600/600 [==============================] - 3s 5ms/step - loss: 0.0207 - accuracy: 0.9937 - val_loss: 0.0350 - val_accuracy: 0.9904\n",
            "Epoch 6/10\n",
            "600/600 [==============================] - 3s 4ms/step - loss: 0.0158 - accuracy: 0.9951 - val_loss: 0.0381 - val_accuracy: 0.9899\n",
            "Epoch 7/10\n",
            "600/600 [==============================] - 3s 4ms/step - loss: 0.0123 - accuracy: 0.9961 - val_loss: 0.0399 - val_accuracy: 0.9893\n",
            "Epoch 8/10\n",
            "600/600 [==============================] - 3s 5ms/step - loss: 0.0100 - accuracy: 0.9969 - val_loss: 0.0446 - val_accuracy: 0.9881\n",
            "Epoch 9/10\n",
            "600/600 [==============================] - 2s 4ms/step - loss: 0.0113 - accuracy: 0.9969 - val_loss: 0.0487 - val_accuracy: 0.9889\n",
            "Epoch 10/10\n",
            "600/600 [==============================] - 3s 4ms/step - loss: 0.0070 - accuracy: 0.9978 - val_loss: 0.0645 - val_accuracy: 0.9868\n",
            "188/188 [==============================] - 1s 3ms/step - loss: 0.0726 - accuracy: 0.9863\n",
            "[CV] .... activation=relu, epochs=10, optimizer=rmsprop, total=  27.3s\n",
            "[CV] activation=relu, epochs=10, optimizer=rmsprop ...................\n",
            "Epoch 1/10\n",
            "600/600 [==============================] - 4s 4ms/step - loss: 0.5319 - accuracy: 0.8251 - val_loss: 0.0635 - val_accuracy: 0.9817\n",
            "Epoch 2/10\n",
            "600/600 [==============================] - 2s 4ms/step - loss: 0.0652 - accuracy: 0.9796 - val_loss: 0.0703 - val_accuracy: 0.9796\n",
            "Epoch 3/10\n",
            "600/600 [==============================] - 2s 4ms/step - loss: 0.0385 - accuracy: 0.9869 - val_loss: 0.0463 - val_accuracy: 0.9858\n",
            "Epoch 4/10\n",
            "600/600 [==============================] - 3s 4ms/step - loss: 0.0298 - accuracy: 0.9907 - val_loss: 0.0469 - val_accuracy: 0.9870\n",
            "Epoch 5/10\n",
            "600/600 [==============================] - 2s 4ms/step - loss: 0.0225 - accuracy: 0.9937 - val_loss: 0.0381 - val_accuracy: 0.9897\n",
            "Epoch 6/10\n",
            "600/600 [==============================] - 3s 4ms/step - loss: 0.0163 - accuracy: 0.9943 - val_loss: 0.0543 - val_accuracy: 0.9873\n",
            "Epoch 7/10\n",
            "600/600 [==============================] - 2s 4ms/step - loss: 0.0133 - accuracy: 0.9954 - val_loss: 0.0459 - val_accuracy: 0.9882\n",
            "Epoch 8/10\n",
            "600/600 [==============================] - 3s 4ms/step - loss: 0.0091 - accuracy: 0.9972 - val_loss: 0.0490 - val_accuracy: 0.9882\n",
            "Epoch 9/10\n",
            "600/600 [==============================] - 2s 4ms/step - loss: 0.0077 - accuracy: 0.9976 - val_loss: 0.0433 - val_accuracy: 0.9908\n",
            "Epoch 10/10\n",
            "600/600 [==============================] - 3s 5ms/step - loss: 0.0055 - accuracy: 0.9985 - val_loss: 0.0668 - val_accuracy: 0.9880\n",
            "188/188 [==============================] - 1s 3ms/step - loss: 0.0744 - accuracy: 0.9852\n",
            "[CV] .... activation=relu, epochs=10, optimizer=rmsprop, total=  27.2s\n",
            "[CV] activation=relu, epochs=10, optimizer=rmsprop ...................\n",
            "Epoch 1/10\n",
            "600/600 [==============================] - 3s 4ms/step - loss: 0.5100 - accuracy: 0.8388 - val_loss: 0.0851 - val_accuracy: 0.9728\n",
            "Epoch 2/10\n",
            "600/600 [==============================] - 3s 4ms/step - loss: 0.0656 - accuracy: 0.9797 - val_loss: 0.0676 - val_accuracy: 0.9777\n",
            "Epoch 3/10\n",
            "600/600 [==============================] - 3s 4ms/step - loss: 0.0447 - accuracy: 0.9861 - val_loss: 0.0509 - val_accuracy: 0.9851\n",
            "Epoch 4/10\n",
            "600/600 [==============================] - 3s 4ms/step - loss: 0.0280 - accuracy: 0.9916 - val_loss: 0.0476 - val_accuracy: 0.9849\n",
            "Epoch 5/10\n",
            "600/600 [==============================] - 3s 4ms/step - loss: 0.0197 - accuracy: 0.9935 - val_loss: 0.0428 - val_accuracy: 0.9866\n",
            "Epoch 6/10\n",
            "600/600 [==============================] - 3s 4ms/step - loss: 0.0156 - accuracy: 0.9954 - val_loss: 0.0514 - val_accuracy: 0.9856\n",
            "Epoch 7/10\n",
            "600/600 [==============================] - 2s 4ms/step - loss: 0.0123 - accuracy: 0.9965 - val_loss: 0.0507 - val_accuracy: 0.9872\n",
            "Epoch 8/10\n",
            "600/600 [==============================] - 2s 4ms/step - loss: 0.0100 - accuracy: 0.9967 - val_loss: 0.0482 - val_accuracy: 0.9868\n",
            "Epoch 9/10\n",
            "600/600 [==============================] - 3s 4ms/step - loss: 0.0072 - accuracy: 0.9976 - val_loss: 0.0526 - val_accuracy: 0.9882\n",
            "Epoch 10/10\n",
            "600/600 [==============================] - 2s 4ms/step - loss: 0.0070 - accuracy: 0.9976 - val_loss: 0.0575 - val_accuracy: 0.9880\n",
            "188/188 [==============================] - 1s 3ms/step - loss: 0.0617 - accuracy: 0.9890\n",
            "[CV] .... activation=relu, epochs=10, optimizer=rmsprop, total=  26.5s\n",
            "[CV] activation=relu, epochs=10, optimizer=Adam ......................\n",
            "Epoch 1/10\n",
            "600/600 [==============================] - 3s 4ms/step - loss: 0.5634 - accuracy: 0.8255 - val_loss: 0.0694 - val_accuracy: 0.9804\n",
            "Epoch 2/10\n",
            "600/600 [==============================] - 2s 4ms/step - loss: 0.0677 - accuracy: 0.9786 - val_loss: 0.0631 - val_accuracy: 0.9820\n",
            "Epoch 3/10\n",
            "600/600 [==============================] - 3s 4ms/step - loss: 0.0392 - accuracy: 0.9872 - val_loss: 0.0510 - val_accuracy: 0.9864\n",
            "Epoch 4/10\n",
            "600/600 [==============================] - 2s 4ms/step - loss: 0.0322 - accuracy: 0.9898 - val_loss: 0.0476 - val_accuracy: 0.9868\n",
            "Epoch 5/10\n",
            "600/600 [==============================] - 2s 4ms/step - loss: 0.0237 - accuracy: 0.9930 - val_loss: 0.0505 - val_accuracy: 0.9865\n",
            "Epoch 6/10\n",
            "600/600 [==============================] - 2s 4ms/step - loss: 0.0186 - accuracy: 0.9941 - val_loss: 0.0443 - val_accuracy: 0.9879\n",
            "Epoch 7/10\n",
            "600/600 [==============================] - 2s 4ms/step - loss: 0.0167 - accuracy: 0.9945 - val_loss: 0.0367 - val_accuracy: 0.9909\n",
            "Epoch 8/10\n",
            "600/600 [==============================] - 2s 4ms/step - loss: 0.0137 - accuracy: 0.9950 - val_loss: 0.0459 - val_accuracy: 0.9886\n",
            "Epoch 9/10\n",
            "600/600 [==============================] - 2s 4ms/step - loss: 0.0113 - accuracy: 0.9963 - val_loss: 0.0543 - val_accuracy: 0.9873\n",
            "Epoch 10/10\n",
            "600/600 [==============================] - 2s 4ms/step - loss: 0.0108 - accuracy: 0.9967 - val_loss: 0.0455 - val_accuracy: 0.9887\n",
            "188/188 [==============================] - 1s 3ms/step - loss: 0.0427 - accuracy: 0.9890\n",
            "[CV] ....... activation=relu, epochs=10, optimizer=Adam, total=  25.2s\n",
            "[CV] activation=relu, epochs=10, optimizer=Adam ......................\n",
            "Epoch 1/10\n",
            "600/600 [==============================] - 3s 4ms/step - loss: 0.5680 - accuracy: 0.8307 - val_loss: 0.0698 - val_accuracy: 0.9803\n",
            "Epoch 2/10\n",
            "600/600 [==============================] - 2s 4ms/step - loss: 0.0674 - accuracy: 0.9786 - val_loss: 0.0539 - val_accuracy: 0.9832\n",
            "Epoch 3/10\n",
            "600/600 [==============================] - 2s 4ms/step - loss: 0.0429 - accuracy: 0.9874 - val_loss: 0.0450 - val_accuracy: 0.9858\n",
            "Epoch 4/10\n",
            "600/600 [==============================] - 2s 4ms/step - loss: 0.0352 - accuracy: 0.9891 - val_loss: 0.0449 - val_accuracy: 0.9865\n",
            "Epoch 5/10\n",
            "600/600 [==============================] - 2s 4ms/step - loss: 0.0272 - accuracy: 0.9907 - val_loss: 0.0502 - val_accuracy: 0.9867\n",
            "Epoch 6/10\n",
            "600/600 [==============================] - 2s 4ms/step - loss: 0.0224 - accuracy: 0.9925 - val_loss: 0.0527 - val_accuracy: 0.9847\n",
            "Epoch 7/10\n",
            "600/600 [==============================] - 2s 4ms/step - loss: 0.0175 - accuracy: 0.9939 - val_loss: 0.0431 - val_accuracy: 0.9879\n",
            "Epoch 8/10\n",
            "600/600 [==============================] - 2s 4ms/step - loss: 0.0158 - accuracy: 0.9953 - val_loss: 0.0436 - val_accuracy: 0.9884\n",
            "Epoch 9/10\n",
            "600/600 [==============================] - 2s 4ms/step - loss: 0.0095 - accuracy: 0.9967 - val_loss: 0.0600 - val_accuracy: 0.9849\n",
            "Epoch 10/10\n",
            "600/600 [==============================] - 2s 4ms/step - loss: 0.0121 - accuracy: 0.9960 - val_loss: 0.0348 - val_accuracy: 0.9907\n",
            "188/188 [==============================] - 1s 3ms/step - loss: 0.0309 - accuracy: 0.9903\n",
            "[CV] ....... activation=relu, epochs=10, optimizer=Adam, total=  25.0s\n",
            "[CV] activation=relu, epochs=10, optimizer=Adam ......................\n",
            "Epoch 1/10\n",
            "600/600 [==============================] - 3s 4ms/step - loss: 0.5494 - accuracy: 0.8289 - val_loss: 0.0852 - val_accuracy: 0.9764\n",
            "Epoch 2/10\n",
            "600/600 [==============================] - 2s 4ms/step - loss: 0.0691 - accuracy: 0.9784 - val_loss: 0.0535 - val_accuracy: 0.9849\n",
            "Epoch 3/10\n",
            "600/600 [==============================] - 2s 4ms/step - loss: 0.0439 - accuracy: 0.9852 - val_loss: 0.0422 - val_accuracy: 0.9876\n",
            "Epoch 4/10\n",
            "600/600 [==============================] - 2s 4ms/step - loss: 0.0323 - accuracy: 0.9892 - val_loss: 0.0466 - val_accuracy: 0.9869\n",
            "Epoch 5/10\n",
            "600/600 [==============================] - 2s 4ms/step - loss: 0.0252 - accuracy: 0.9920 - val_loss: 0.0510 - val_accuracy: 0.9855\n",
            "Epoch 6/10\n",
            "600/600 [==============================] - 2s 4ms/step - loss: 0.0202 - accuracy: 0.9936 - val_loss: 0.0405 - val_accuracy: 0.9890\n",
            "Epoch 7/10\n",
            "600/600 [==============================] - 2s 4ms/step - loss: 0.0166 - accuracy: 0.9944 - val_loss: 0.0460 - val_accuracy: 0.9868\n",
            "Epoch 8/10\n",
            "600/600 [==============================] - 2s 4ms/step - loss: 0.0151 - accuracy: 0.9949 - val_loss: 0.0374 - val_accuracy: 0.9902\n",
            "Epoch 9/10\n",
            "600/600 [==============================] - 2s 4ms/step - loss: 0.0114 - accuracy: 0.9962 - val_loss: 0.0504 - val_accuracy: 0.9869\n",
            "Epoch 10/10\n",
            "600/600 [==============================] - 2s 4ms/step - loss: 0.0107 - accuracy: 0.9961 - val_loss: 0.0393 - val_accuracy: 0.9903\n",
            "188/188 [==============================] - 1s 3ms/step - loss: 0.0455 - accuracy: 0.9876\n",
            "[CV] ....... activation=relu, epochs=10, optimizer=Adam, total=  25.0s\n",
            "[CV] activation=relu, epochs=10, optimizer=Adam ......................\n",
            "Epoch 1/10\n",
            "600/600 [==============================] - 3s 4ms/step - loss: 0.5649 - accuracy: 0.8202 - val_loss: 0.0710 - val_accuracy: 0.9789\n",
            "Epoch 2/10\n",
            "600/600 [==============================] - 2s 4ms/step - loss: 0.0665 - accuracy: 0.9795 - val_loss: 0.0686 - val_accuracy: 0.9797\n",
            "Epoch 3/10\n",
            "600/600 [==============================] - 3s 4ms/step - loss: 0.0446 - accuracy: 0.9863 - val_loss: 0.0544 - val_accuracy: 0.9840\n",
            "Epoch 4/10\n",
            "600/600 [==============================] - 2s 4ms/step - loss: 0.0339 - accuracy: 0.9892 - val_loss: 0.0557 - val_accuracy: 0.9842\n",
            "Epoch 5/10\n",
            "600/600 [==============================] - 2s 4ms/step - loss: 0.0264 - accuracy: 0.9913 - val_loss: 0.0492 - val_accuracy: 0.9865\n",
            "Epoch 6/10\n",
            "600/600 [==============================] - 2s 4ms/step - loss: 0.0229 - accuracy: 0.9921 - val_loss: 0.0367 - val_accuracy: 0.9901\n",
            "Epoch 7/10\n",
            "600/600 [==============================] - 2s 4ms/step - loss: 0.0153 - accuracy: 0.9955 - val_loss: 0.0447 - val_accuracy: 0.9883\n",
            "Epoch 8/10\n",
            "600/600 [==============================] - 2s 4ms/step - loss: 0.0138 - accuracy: 0.9956 - val_loss: 0.0439 - val_accuracy: 0.9885\n",
            "Epoch 9/10\n",
            "600/600 [==============================] - 2s 4ms/step - loss: 0.0090 - accuracy: 0.9970 - val_loss: 0.0504 - val_accuracy: 0.9879\n",
            "Epoch 10/10\n",
            "600/600 [==============================] - 2s 4ms/step - loss: 0.0103 - accuracy: 0.9965 - val_loss: 0.0534 - val_accuracy: 0.9881\n",
            "188/188 [==============================] - 1s 3ms/step - loss: 0.0597 - accuracy: 0.9853\n",
            "[CV] ....... activation=relu, epochs=10, optimizer=Adam, total=  25.1s\n",
            "[CV] activation=relu, epochs=10, optimizer=Adam ......................\n",
            "Epoch 1/10\n",
            "600/600 [==============================] - 3s 4ms/step - loss: 0.5400 - accuracy: 0.8377 - val_loss: 0.1009 - val_accuracy: 0.9676\n",
            "Epoch 2/10\n",
            "600/600 [==============================] - 2s 4ms/step - loss: 0.0688 - accuracy: 0.9782 - val_loss: 0.0615 - val_accuracy: 0.9803\n",
            "Epoch 3/10\n",
            "600/600 [==============================] - 2s 4ms/step - loss: 0.0434 - accuracy: 0.9865 - val_loss: 0.0553 - val_accuracy: 0.9826\n",
            "Epoch 4/10\n",
            "600/600 [==============================] - 2s 4ms/step - loss: 0.0304 - accuracy: 0.9901 - val_loss: 0.0506 - val_accuracy: 0.9854\n",
            "Epoch 5/10\n",
            "600/600 [==============================] - 2s 4ms/step - loss: 0.0241 - accuracy: 0.9923 - val_loss: 0.0563 - val_accuracy: 0.9833\n",
            "Epoch 6/10\n",
            "600/600 [==============================] - 2s 4ms/step - loss: 0.0166 - accuracy: 0.9944 - val_loss: 0.0593 - val_accuracy: 0.9839\n",
            "Epoch 7/10\n",
            "600/600 [==============================] - 2s 4ms/step - loss: 0.0182 - accuracy: 0.9939 - val_loss: 0.0457 - val_accuracy: 0.9875\n",
            "Epoch 8/10\n",
            "600/600 [==============================] - 2s 4ms/step - loss: 0.0127 - accuracy: 0.9960 - val_loss: 0.0525 - val_accuracy: 0.9858\n",
            "Epoch 9/10\n",
            "600/600 [==============================] - 2s 4ms/step - loss: 0.0086 - accuracy: 0.9973 - val_loss: 0.0542 - val_accuracy: 0.9862\n",
            "Epoch 10/10\n",
            "600/600 [==============================] - 2s 4ms/step - loss: 0.0081 - accuracy: 0.9972 - val_loss: 0.0560 - val_accuracy: 0.9857\n",
            "188/188 [==============================] - 1s 3ms/step - loss: 0.0495 - accuracy: 0.9887\n",
            "[CV] ....... activation=relu, epochs=10, optimizer=Adam, total=  25.6s\n",
            "[CV] activation=tanh, epochs=5, optimizer=rmsprop ....................\n",
            "Epoch 1/5\n",
            "600/600 [==============================] - 3s 5ms/step - loss: 0.3922 - accuracy: 0.8844 - val_loss: 0.0867 - val_accuracy: 0.9741\n",
            "Epoch 2/5\n",
            "600/600 [==============================] - 3s 4ms/step - loss: 0.0672 - accuracy: 0.9791 - val_loss: 0.0648 - val_accuracy: 0.9808\n",
            "Epoch 3/5\n",
            "600/600 [==============================] - 3s 4ms/step - loss: 0.0416 - accuracy: 0.9866 - val_loss: 0.0505 - val_accuracy: 0.9855\n",
            "Epoch 4/5\n",
            "600/600 [==============================] - 2s 4ms/step - loss: 0.0295 - accuracy: 0.9916 - val_loss: 0.0409 - val_accuracy: 0.9878\n",
            "Epoch 5/5\n",
            "600/600 [==============================] - 3s 4ms/step - loss: 0.0220 - accuracy: 0.9935 - val_loss: 0.0483 - val_accuracy: 0.9867\n",
            "188/188 [==============================] - 1s 3ms/step - loss: 0.0476 - accuracy: 0.9854\n",
            "[CV] ..... activation=tanh, epochs=5, optimizer=rmsprop, total=  14.5s\n",
            "[CV] activation=tanh, epochs=5, optimizer=rmsprop ....................\n",
            "Epoch 1/5\n",
            "600/600 [==============================] - 3s 5ms/step - loss: 0.3978 - accuracy: 0.8826 - val_loss: 0.0690 - val_accuracy: 0.9800\n",
            "Epoch 2/5\n",
            "600/600 [==============================] - 3s 5ms/step - loss: 0.0652 - accuracy: 0.9809 - val_loss: 0.0602 - val_accuracy: 0.9828\n",
            "Epoch 3/5\n",
            "600/600 [==============================] - 3s 5ms/step - loss: 0.0405 - accuracy: 0.9888 - val_loss: 0.0537 - val_accuracy: 0.9848\n",
            "Epoch 4/5\n",
            "600/600 [==============================] - 3s 4ms/step - loss: 0.0276 - accuracy: 0.9911 - val_loss: 0.0469 - val_accuracy: 0.9874\n",
            "Epoch 5/5\n",
            "600/600 [==============================] - 3s 5ms/step - loss: 0.0212 - accuracy: 0.9935 - val_loss: 0.0560 - val_accuracy: 0.9851\n",
            "188/188 [==============================] - 1s 3ms/step - loss: 0.0574 - accuracy: 0.9824\n",
            "[CV] ..... activation=tanh, epochs=5, optimizer=rmsprop, total=  15.3s\n",
            "[CV] activation=tanh, epochs=5, optimizer=rmsprop ....................\n",
            "Epoch 1/5\n",
            "600/600 [==============================] - 3s 4ms/step - loss: 0.3848 - accuracy: 0.8851 - val_loss: 0.0722 - val_accuracy: 0.9789\n",
            "Epoch 2/5\n",
            "600/600 [==============================] - 3s 4ms/step - loss: 0.0631 - accuracy: 0.9809 - val_loss: 0.0611 - val_accuracy: 0.9827\n",
            "Epoch 3/5\n",
            "600/600 [==============================] - 3s 4ms/step - loss: 0.0386 - accuracy: 0.9892 - val_loss: 0.0563 - val_accuracy: 0.9843\n",
            "Epoch 4/5\n",
            "600/600 [==============================] - 3s 4ms/step - loss: 0.0255 - accuracy: 0.9920 - val_loss: 0.0619 - val_accuracy: 0.9825\n",
            "Epoch 5/5\n",
            "600/600 [==============================] - 3s 5ms/step - loss: 0.0192 - accuracy: 0.9939 - val_loss: 0.0456 - val_accuracy: 0.9881\n",
            "188/188 [==============================] - 1s 3ms/step - loss: 0.0456 - accuracy: 0.9864\n",
            "[CV] ..... activation=tanh, epochs=5, optimizer=rmsprop, total=  14.9s\n",
            "[CV] activation=tanh, epochs=5, optimizer=rmsprop ....................\n",
            "Epoch 1/5\n",
            "600/600 [==============================] - 3s 5ms/step - loss: 0.3916 - accuracy: 0.8828 - val_loss: 0.0743 - val_accuracy: 0.9780\n",
            "Epoch 2/5\n",
            "600/600 [==============================] - 3s 4ms/step - loss: 0.0612 - accuracy: 0.9812 - val_loss: 0.0637 - val_accuracy: 0.9831\n",
            "Epoch 3/5\n",
            "600/600 [==============================] - 3s 4ms/step - loss: 0.0374 - accuracy: 0.9890 - val_loss: 0.0481 - val_accuracy: 0.9869\n",
            "Epoch 4/5\n",
            "600/600 [==============================] - 3s 5ms/step - loss: 0.0264 - accuracy: 0.9917 - val_loss: 0.0439 - val_accuracy: 0.9870\n",
            "Epoch 5/5\n",
            "600/600 [==============================] - 3s 5ms/step - loss: 0.0209 - accuracy: 0.9936 - val_loss: 0.0461 - val_accuracy: 0.9870\n",
            "188/188 [==============================] - 1s 3ms/step - loss: 0.0518 - accuracy: 0.9846\n",
            "[CV] ..... activation=tanh, epochs=5, optimizer=rmsprop, total=  15.0s\n",
            "[CV] activation=tanh, epochs=5, optimizer=rmsprop ....................\n",
            "Epoch 1/5\n",
            "600/600 [==============================] - 3s 4ms/step - loss: 0.4137 - accuracy: 0.8769 - val_loss: 0.0958 - val_accuracy: 0.9715\n",
            "Epoch 2/5\n",
            "600/600 [==============================] - 3s 4ms/step - loss: 0.0633 - accuracy: 0.9819 - val_loss: 0.0596 - val_accuracy: 0.9808\n",
            "Epoch 3/5\n",
            "600/600 [==============================] - 3s 4ms/step - loss: 0.0413 - accuracy: 0.9874 - val_loss: 0.0492 - val_accuracy: 0.9841\n",
            "Epoch 4/5\n",
            "600/600 [==============================] - 3s 4ms/step - loss: 0.0278 - accuracy: 0.9915 - val_loss: 0.0516 - val_accuracy: 0.9845\n",
            "Epoch 5/5\n",
            "600/600 [==============================] - 3s 4ms/step - loss: 0.0197 - accuracy: 0.9942 - val_loss: 0.0554 - val_accuracy: 0.9832\n",
            "188/188 [==============================] - 1s 3ms/step - loss: 0.0552 - accuracy: 0.9849\n",
            "[CV] ..... activation=tanh, epochs=5, optimizer=rmsprop, total=  14.4s\n",
            "[CV] activation=tanh, epochs=5, optimizer=Adam .......................\n",
            "Epoch 1/5\n",
            "600/600 [==============================] - 3s 4ms/step - loss: 0.4804 - accuracy: 0.8563 - val_loss: 0.0695 - val_accuracy: 0.9799\n",
            "Epoch 2/5\n",
            "600/600 [==============================] - 2s 4ms/step - loss: 0.0677 - accuracy: 0.9797 - val_loss: 0.0579 - val_accuracy: 0.9834\n",
            "Epoch 3/5\n",
            "600/600 [==============================] - 3s 4ms/step - loss: 0.0426 - accuracy: 0.9873 - val_loss: 0.0674 - val_accuracy: 0.9807\n",
            "Epoch 4/5\n",
            "600/600 [==============================] - 2s 4ms/step - loss: 0.0358 - accuracy: 0.9892 - val_loss: 0.0539 - val_accuracy: 0.9842\n",
            "Epoch 5/5\n",
            "600/600 [==============================] - 3s 4ms/step - loss: 0.0217 - accuracy: 0.9936 - val_loss: 0.0471 - val_accuracy: 0.9867\n",
            "188/188 [==============================] - 1s 3ms/step - loss: 0.0484 - accuracy: 0.9871\n",
            "[CV] ........ activation=tanh, epochs=5, optimizer=Adam, total=  14.2s\n",
            "[CV] activation=tanh, epochs=5, optimizer=Adam .......................\n",
            "Epoch 1/5\n",
            "600/600 [==============================] - 3s 4ms/step - loss: 0.4947 - accuracy: 0.8541 - val_loss: 0.0778 - val_accuracy: 0.9777\n",
            "Epoch 2/5\n",
            "600/600 [==============================] - 2s 4ms/step - loss: 0.0725 - accuracy: 0.9787 - val_loss: 0.0638 - val_accuracy: 0.9820\n",
            "Epoch 3/5\n",
            "600/600 [==============================] - 2s 4ms/step - loss: 0.0431 - accuracy: 0.9876 - val_loss: 0.0549 - val_accuracy: 0.9856\n",
            "Epoch 4/5\n",
            "600/600 [==============================] - 2s 4ms/step - loss: 0.0321 - accuracy: 0.9907 - val_loss: 0.0531 - val_accuracy: 0.9861\n",
            "Epoch 5/5\n",
            "600/600 [==============================] - 2s 4ms/step - loss: 0.0247 - accuracy: 0.9928 - val_loss: 0.0532 - val_accuracy: 0.9858\n",
            "188/188 [==============================] - 1s 3ms/step - loss: 0.0457 - accuracy: 0.9855\n",
            "[CV] ........ activation=tanh, epochs=5, optimizer=Adam, total=  13.4s\n",
            "[CV] activation=tanh, epochs=5, optimizer=Adam .......................\n",
            "Epoch 1/5\n",
            "600/600 [==============================] - 3s 4ms/step - loss: 0.4443 - accuracy: 0.8738 - val_loss: 0.0688 - val_accuracy: 0.9810\n",
            "Epoch 2/5\n",
            "600/600 [==============================] - 2s 4ms/step - loss: 0.0641 - accuracy: 0.9820 - val_loss: 0.0618 - val_accuracy: 0.9818\n",
            "Epoch 3/5\n",
            "600/600 [==============================] - 2s 4ms/step - loss: 0.0382 - accuracy: 0.9885 - val_loss: 0.0524 - val_accuracy: 0.9846\n",
            "Epoch 4/5\n",
            "600/600 [==============================] - 2s 4ms/step - loss: 0.0273 - accuracy: 0.9922 - val_loss: 0.0475 - val_accuracy: 0.9868\n",
            "Epoch 5/5\n",
            "600/600 [==============================] - 2s 4ms/step - loss: 0.0209 - accuracy: 0.9934 - val_loss: 0.0457 - val_accuracy: 0.9877\n",
            "188/188 [==============================] - 1s 3ms/step - loss: 0.0481 - accuracy: 0.9855\n",
            "[CV] ........ activation=tanh, epochs=5, optimizer=Adam, total=  13.3s\n",
            "[CV] activation=tanh, epochs=5, optimizer=Adam .......................\n",
            "Epoch 1/5\n",
            "600/600 [==============================] - 3s 4ms/step - loss: 0.4619 - accuracy: 0.8680 - val_loss: 0.0728 - val_accuracy: 0.9778\n",
            "Epoch 2/5\n",
            "600/600 [==============================] - 2s 4ms/step - loss: 0.0634 - accuracy: 0.9814 - val_loss: 0.0536 - val_accuracy: 0.9842\n",
            "Epoch 3/5\n",
            "600/600 [==============================] - 2s 4ms/step - loss: 0.0371 - accuracy: 0.9892 - val_loss: 0.0522 - val_accuracy: 0.9846\n",
            "Epoch 4/5\n",
            "600/600 [==============================] - 3s 4ms/step - loss: 0.0296 - accuracy: 0.9921 - val_loss: 0.0496 - val_accuracy: 0.9854\n",
            "Epoch 5/5\n",
            "600/600 [==============================] - 3s 4ms/step - loss: 0.0231 - accuracy: 0.9922 - val_loss: 0.0463 - val_accuracy: 0.9871\n",
            "188/188 [==============================] - 1s 3ms/step - loss: 0.0529 - accuracy: 0.9826\n",
            "[CV] ........ activation=tanh, epochs=5, optimizer=Adam, total=  13.7s\n",
            "[CV] activation=tanh, epochs=5, optimizer=Adam .......................\n",
            "Epoch 1/5\n",
            "600/600 [==============================] - 3s 5ms/step - loss: 0.4527 - accuracy: 0.8698 - val_loss: 0.0820 - val_accuracy: 0.9730\n",
            "Epoch 2/5\n",
            "600/600 [==============================] - 2s 4ms/step - loss: 0.0628 - accuracy: 0.9832 - val_loss: 0.0677 - val_accuracy: 0.9804\n",
            "Epoch 3/5\n",
            "600/600 [==============================] - 3s 4ms/step - loss: 0.0391 - accuracy: 0.9893 - val_loss: 0.0603 - val_accuracy: 0.9809\n",
            "Epoch 4/5\n",
            "600/600 [==============================] - 2s 4ms/step - loss: 0.0298 - accuracy: 0.9919 - val_loss: 0.0532 - val_accuracy: 0.9834\n",
            "Epoch 5/5\n",
            "600/600 [==============================] - 3s 4ms/step - loss: 0.0218 - accuracy: 0.9936 - val_loss: 0.0516 - val_accuracy: 0.9844\n",
            "188/188 [==============================] - 1s 3ms/step - loss: 0.0505 - accuracy: 0.9863\n",
            "[CV] ........ activation=tanh, epochs=5, optimizer=Adam, total=  14.1s\n",
            "[CV] activation=tanh, epochs=10, optimizer=rmsprop ...................\n",
            "Epoch 1/10\n",
            "600/600 [==============================] - 4s 5ms/step - loss: 0.3959 - accuracy: 0.8842 - val_loss: 0.0730 - val_accuracy: 0.9804\n",
            "Epoch 2/10\n",
            "600/600 [==============================] - 3s 5ms/step - loss: 0.0631 - accuracy: 0.9812 - val_loss: 0.0593 - val_accuracy: 0.9837\n",
            "Epoch 3/10\n",
            "600/600 [==============================] - 3s 4ms/step - loss: 0.0460 - accuracy: 0.9858 - val_loss: 0.0569 - val_accuracy: 0.9836\n",
            "Epoch 4/10\n",
            "600/600 [==============================] - 3s 4ms/step - loss: 0.0266 - accuracy: 0.9923 - val_loss: 0.0511 - val_accuracy: 0.9864\n",
            "Epoch 5/10\n",
            "600/600 [==============================] - 3s 5ms/step - loss: 0.0181 - accuracy: 0.9948 - val_loss: 0.0458 - val_accuracy: 0.9875\n",
            "Epoch 6/10\n",
            "600/600 [==============================] - 3s 4ms/step - loss: 0.0142 - accuracy: 0.9954 - val_loss: 0.0498 - val_accuracy: 0.9862\n",
            "Epoch 7/10\n",
            "600/600 [==============================] - 2s 4ms/step - loss: 0.0107 - accuracy: 0.9970 - val_loss: 0.0447 - val_accuracy: 0.9883\n",
            "Epoch 8/10\n",
            "600/600 [==============================] - 3s 4ms/step - loss: 0.0075 - accuracy: 0.9975 - val_loss: 0.0441 - val_accuracy: 0.9896\n",
            "Epoch 9/10\n",
            "600/600 [==============================] - 3s 5ms/step - loss: 0.0041 - accuracy: 0.9989 - val_loss: 0.0446 - val_accuracy: 0.9886\n",
            "Epoch 10/10\n",
            "600/600 [==============================] - 3s 4ms/step - loss: 0.0037 - accuracy: 0.9990 - val_loss: 0.0439 - val_accuracy: 0.9889\n",
            "188/188 [==============================] - 1s 3ms/step - loss: 0.0420 - accuracy: 0.9894\n",
            "[CV] .... activation=tanh, epochs=10, optimizer=rmsprop, total=  28.4s\n",
            "[CV] activation=tanh, epochs=10, optimizer=rmsprop ...................\n",
            "Epoch 1/10\n",
            "600/600 [==============================] - 4s 5ms/step - loss: 0.3944 - accuracy: 0.8832 - val_loss: 0.0719 - val_accuracy: 0.9786\n",
            "Epoch 2/10\n",
            "600/600 [==============================] - 3s 4ms/step - loss: 0.0648 - accuracy: 0.9816 - val_loss: 0.0555 - val_accuracy: 0.9846\n",
            "Epoch 3/10\n",
            "600/600 [==============================] - 3s 4ms/step - loss: 0.0411 - accuracy: 0.9877 - val_loss: 0.0496 - val_accuracy: 0.9860\n",
            "Epoch 4/10\n",
            "600/600 [==============================] - 3s 5ms/step - loss: 0.0310 - accuracy: 0.9911 - val_loss: 0.0436 - val_accuracy: 0.9880\n",
            "Epoch 5/10\n",
            "600/600 [==============================] - 3s 5ms/step - loss: 0.0192 - accuracy: 0.9951 - val_loss: 0.0528 - val_accuracy: 0.9853\n",
            "Epoch 6/10\n",
            "600/600 [==============================] - 3s 5ms/step - loss: 0.0158 - accuracy: 0.9955 - val_loss: 0.0481 - val_accuracy: 0.9866\n",
            "Epoch 7/10\n",
            "600/600 [==============================] - 3s 4ms/step - loss: 0.0111 - accuracy: 0.9971 - val_loss: 0.0450 - val_accuracy: 0.9873\n",
            "Epoch 8/10\n",
            "600/600 [==============================] - 3s 4ms/step - loss: 0.0080 - accuracy: 0.9977 - val_loss: 0.0476 - val_accuracy: 0.9886\n",
            "Epoch 9/10\n",
            "600/600 [==============================] - 3s 5ms/step - loss: 0.0056 - accuracy: 0.9987 - val_loss: 0.0498 - val_accuracy: 0.9874\n",
            "Epoch 10/10\n",
            "600/600 [==============================] - 3s 5ms/step - loss: 0.0048 - accuracy: 0.9985 - val_loss: 0.0517 - val_accuracy: 0.9881\n",
            "188/188 [==============================] - 1s 3ms/step - loss: 0.0399 - accuracy: 0.9896\n",
            "[CV] .... activation=tanh, epochs=10, optimizer=rmsprop, total=  29.1s\n",
            "[CV] activation=tanh, epochs=10, optimizer=rmsprop ...................\n",
            "Epoch 1/10\n",
            "600/600 [==============================] - 3s 5ms/step - loss: 0.4047 - accuracy: 0.8805 - val_loss: 0.0717 - val_accuracy: 0.9796\n",
            "Epoch 2/10\n",
            "600/600 [==============================] - 3s 4ms/step - loss: 0.0634 - accuracy: 0.9811 - val_loss: 0.0596 - val_accuracy: 0.9830\n",
            "Epoch 3/10\n",
            "600/600 [==============================] - 3s 4ms/step - loss: 0.0386 - accuracy: 0.9885 - val_loss: 0.0493 - val_accuracy: 0.9858\n",
            "Epoch 4/10\n",
            "600/600 [==============================] - 3s 5ms/step - loss: 0.0292 - accuracy: 0.9910 - val_loss: 0.0457 - val_accuracy: 0.9867\n",
            "Epoch 5/10\n",
            "600/600 [==============================] - 3s 5ms/step - loss: 0.0185 - accuracy: 0.9947 - val_loss: 0.0464 - val_accuracy: 0.9875\n",
            "Epoch 6/10\n",
            "600/600 [==============================] - 3s 5ms/step - loss: 0.0137 - accuracy: 0.9961 - val_loss: 0.0441 - val_accuracy: 0.9884\n",
            "Epoch 7/10\n",
            "600/600 [==============================] - 3s 5ms/step - loss: 0.0099 - accuracy: 0.9969 - val_loss: 0.0469 - val_accuracy: 0.9874\n",
            "Epoch 8/10\n",
            "600/600 [==============================] - 3s 4ms/step - loss: 0.0078 - accuracy: 0.9977 - val_loss: 0.0451 - val_accuracy: 0.9893\n",
            "Epoch 9/10\n",
            "600/600 [==============================] - 3s 4ms/step - loss: 0.0054 - accuracy: 0.9986 - val_loss: 0.0431 - val_accuracy: 0.9897\n",
            "Epoch 10/10\n",
            "600/600 [==============================] - 3s 4ms/step - loss: 0.0041 - accuracy: 0.9988 - val_loss: 0.0512 - val_accuracy: 0.9882\n",
            "188/188 [==============================] - 1s 3ms/step - loss: 0.0484 - accuracy: 0.9883\n",
            "[CV] .... activation=tanh, epochs=10, optimizer=rmsprop, total=  28.8s\n",
            "[CV] activation=tanh, epochs=10, optimizer=rmsprop ...................\n",
            "Epoch 1/10\n",
            "600/600 [==============================] - 4s 5ms/step - loss: 0.3985 - accuracy: 0.8820 - val_loss: 0.0811 - val_accuracy: 0.9782\n",
            "Epoch 2/10\n",
            "600/600 [==============================] - 3s 4ms/step - loss: 0.0618 - accuracy: 0.9819 - val_loss: 0.0580 - val_accuracy: 0.9854\n",
            "Epoch 3/10\n",
            "600/600 [==============================] - 3s 5ms/step - loss: 0.0395 - accuracy: 0.9890 - val_loss: 0.0602 - val_accuracy: 0.9818\n",
            "Epoch 4/10\n",
            "600/600 [==============================] - 3s 5ms/step - loss: 0.0245 - accuracy: 0.9927 - val_loss: 0.0480 - val_accuracy: 0.9866\n",
            "Epoch 5/10\n",
            "600/600 [==============================] - 3s 5ms/step - loss: 0.0168 - accuracy: 0.9954 - val_loss: 0.0525 - val_accuracy: 0.9859\n",
            "Epoch 6/10\n",
            "600/600 [==============================] - 3s 5ms/step - loss: 0.0138 - accuracy: 0.9956 - val_loss: 0.0489 - val_accuracy: 0.9881\n",
            "Epoch 7/10\n",
            "600/600 [==============================] - 3s 5ms/step - loss: 0.0082 - accuracy: 0.9977 - val_loss: 0.0517 - val_accuracy: 0.9877\n",
            "Epoch 8/10\n",
            "600/600 [==============================] - 3s 4ms/step - loss: 0.0063 - accuracy: 0.9983 - val_loss: 0.0495 - val_accuracy: 0.9885\n",
            "Epoch 9/10\n",
            "600/600 [==============================] - 3s 4ms/step - loss: 0.0047 - accuracy: 0.9986 - val_loss: 0.0503 - val_accuracy: 0.9871\n",
            "Epoch 10/10\n",
            "600/600 [==============================] - 3s 4ms/step - loss: 0.0033 - accuracy: 0.9993 - val_loss: 0.0483 - val_accuracy: 0.9887\n",
            "188/188 [==============================] - 1s 3ms/step - loss: 0.0564 - accuracy: 0.9858\n",
            "[CV] .... activation=tanh, epochs=10, optimizer=rmsprop, total=  28.9s\n",
            "[CV] activation=tanh, epochs=10, optimizer=rmsprop ...................\n",
            "Epoch 1/10\n",
            "600/600 [==============================] - 3s 5ms/step - loss: 0.3728 - accuracy: 0.8915 - val_loss: 0.0936 - val_accuracy: 0.9702\n",
            "Epoch 2/10\n",
            "600/600 [==============================] - 3s 5ms/step - loss: 0.0641 - accuracy: 0.9810 - val_loss: 0.0631 - val_accuracy: 0.9797\n",
            "Epoch 3/10\n",
            "600/600 [==============================] - 3s 5ms/step - loss: 0.0416 - accuracy: 0.9880 - val_loss: 0.0561 - val_accuracy: 0.9829\n",
            "Epoch 4/10\n",
            "600/600 [==============================] - 3s 4ms/step - loss: 0.0263 - accuracy: 0.9923 - val_loss: 0.0486 - val_accuracy: 0.9861\n",
            "Epoch 5/10\n",
            "600/600 [==============================] - 3s 4ms/step - loss: 0.0178 - accuracy: 0.9947 - val_loss: 0.0550 - val_accuracy: 0.9839\n",
            "Epoch 6/10\n",
            "600/600 [==============================] - 3s 5ms/step - loss: 0.0123 - accuracy: 0.9963 - val_loss: 0.0485 - val_accuracy: 0.9852\n",
            "Epoch 7/10\n",
            "600/600 [==============================] - 3s 4ms/step - loss: 0.0095 - accuracy: 0.9970 - val_loss: 0.0555 - val_accuracy: 0.9859\n",
            "Epoch 8/10\n",
            "600/600 [==============================] - 3s 4ms/step - loss: 0.0064 - accuracy: 0.9983 - val_loss: 0.0534 - val_accuracy: 0.9861\n",
            "Epoch 9/10\n",
            "600/600 [==============================] - 3s 5ms/step - loss: 0.0051 - accuracy: 0.9984 - val_loss: 0.0803 - val_accuracy: 0.9787\n",
            "Epoch 10/10\n",
            "600/600 [==============================] - 3s 4ms/step - loss: 0.0038 - accuracy: 0.9990 - val_loss: 0.0650 - val_accuracy: 0.9856\n",
            "188/188 [==============================] - 1s 3ms/step - loss: 0.0515 - accuracy: 0.9875\n",
            "[CV] .... activation=tanh, epochs=10, optimizer=rmsprop, total=  29.1s\n",
            "[CV] activation=tanh, epochs=10, optimizer=Adam ......................\n",
            "Epoch 1/10\n",
            "600/600 [==============================] - 3s 4ms/step - loss: 0.4729 - accuracy: 0.8595 - val_loss: 0.0716 - val_accuracy: 0.9810\n",
            "Epoch 2/10\n",
            "600/600 [==============================] - 2s 4ms/step - loss: 0.0658 - accuracy: 0.9800 - val_loss: 0.0557 - val_accuracy: 0.9842\n",
            "Epoch 3/10\n",
            "600/600 [==============================] - 3s 4ms/step - loss: 0.0419 - accuracy: 0.9878 - val_loss: 0.0513 - val_accuracy: 0.9857\n",
            "Epoch 4/10\n",
            "600/600 [==============================] - 3s 4ms/step - loss: 0.0291 - accuracy: 0.9916 - val_loss: 0.0502 - val_accuracy: 0.9856\n",
            "Epoch 5/10\n",
            "600/600 [==============================] - 3s 4ms/step - loss: 0.0233 - accuracy: 0.9929 - val_loss: 0.0483 - val_accuracy: 0.9868\n",
            "Epoch 6/10\n",
            "600/600 [==============================] - 3s 4ms/step - loss: 0.0158 - accuracy: 0.9958 - val_loss: 0.0438 - val_accuracy: 0.9882\n",
            "Epoch 7/10\n",
            "600/600 [==============================] - 2s 4ms/step - loss: 0.0125 - accuracy: 0.9960 - val_loss: 0.0510 - val_accuracy: 0.9867\n",
            "Epoch 8/10\n",
            "600/600 [==============================] - 3s 4ms/step - loss: 0.0144 - accuracy: 0.9958 - val_loss: 0.0498 - val_accuracy: 0.9869\n",
            "Epoch 9/10\n",
            "600/600 [==============================] - 3s 4ms/step - loss: 0.0100 - accuracy: 0.9971 - val_loss: 0.0485 - val_accuracy: 0.9866\n",
            "Epoch 10/10\n",
            "600/600 [==============================] - 2s 4ms/step - loss: 0.0063 - accuracy: 0.9983 - val_loss: 0.0437 - val_accuracy: 0.9890\n",
            "188/188 [==============================] - 1s 3ms/step - loss: 0.0402 - accuracy: 0.9887\n",
            "[CV] ....... activation=tanh, epochs=10, optimizer=Adam, total=  26.5s\n",
            "[CV] activation=tanh, epochs=10, optimizer=Adam ......................\n",
            "Epoch 1/10\n",
            "600/600 [==============================] - 3s 5ms/step - loss: 0.4646 - accuracy: 0.8625 - val_loss: 0.0715 - val_accuracy: 0.9805\n",
            "Epoch 2/10\n",
            "600/600 [==============================] - 2s 4ms/step - loss: 0.0678 - accuracy: 0.9796 - val_loss: 0.0539 - val_accuracy: 0.9840\n",
            "Epoch 3/10\n",
            "600/600 [==============================] - 2s 4ms/step - loss: 0.0400 - accuracy: 0.9884 - val_loss: 0.0537 - val_accuracy: 0.9849\n",
            "Epoch 4/10\n",
            "600/600 [==============================] - 3s 4ms/step - loss: 0.0290 - accuracy: 0.9917 - val_loss: 0.0425 - val_accuracy: 0.9882\n",
            "Epoch 5/10\n",
            "600/600 [==============================] - 3s 4ms/step - loss: 0.0229 - accuracy: 0.9937 - val_loss: 0.0417 - val_accuracy: 0.9885\n",
            "Epoch 6/10\n",
            "600/600 [==============================] - 2s 4ms/step - loss: 0.0168 - accuracy: 0.9955 - val_loss: 0.0480 - val_accuracy: 0.9868\n",
            "Epoch 7/10\n",
            "600/600 [==============================] - 3s 4ms/step - loss: 0.0149 - accuracy: 0.9957 - val_loss: 0.0402 - val_accuracy: 0.9881\n",
            "Epoch 8/10\n",
            "600/600 [==============================] - 2s 4ms/step - loss: 0.0091 - accuracy: 0.9977 - val_loss: 0.0525 - val_accuracy: 0.9846\n",
            "Epoch 9/10\n",
            "600/600 [==============================] - 2s 4ms/step - loss: 0.0107 - accuracy: 0.9972 - val_loss: 0.0432 - val_accuracy: 0.9889\n",
            "Epoch 10/10\n",
            "600/600 [==============================] - 3s 4ms/step - loss: 0.0090 - accuracy: 0.9974 - val_loss: 0.0435 - val_accuracy: 0.9875\n",
            "188/188 [==============================] - 1s 3ms/step - loss: 0.0365 - accuracy: 0.9883\n",
            "[CV] ....... activation=tanh, epochs=10, optimizer=Adam, total=  26.6s\n",
            "[CV] activation=tanh, epochs=10, optimizer=Adam ......................\n",
            "Epoch 1/10\n",
            "600/600 [==============================] - 3s 5ms/step - loss: 0.4503 - accuracy: 0.8669 - val_loss: 0.0713 - val_accuracy: 0.9801\n",
            "Epoch 2/10\n",
            "600/600 [==============================] - 2s 4ms/step - loss: 0.0612 - accuracy: 0.9827 - val_loss: 0.0556 - val_accuracy: 0.9832\n",
            "Epoch 3/10\n",
            "600/600 [==============================] - 3s 4ms/step - loss: 0.0396 - accuracy: 0.9890 - val_loss: 0.0474 - val_accuracy: 0.9858\n",
            "Epoch 4/10\n",
            "600/600 [==============================] - 3s 4ms/step - loss: 0.0289 - accuracy: 0.9915 - val_loss: 0.0470 - val_accuracy: 0.9866\n",
            "Epoch 5/10\n",
            "600/600 [==============================] - 3s 4ms/step - loss: 0.0226 - accuracy: 0.9936 - val_loss: 0.0438 - val_accuracy: 0.9880\n",
            "Epoch 6/10\n",
            "600/600 [==============================] - 2s 4ms/step - loss: 0.0146 - accuracy: 0.9955 - val_loss: 0.0433 - val_accuracy: 0.9880\n",
            "Epoch 7/10\n",
            "600/600 [==============================] - 2s 4ms/step - loss: 0.0130 - accuracy: 0.9962 - val_loss: 0.0400 - val_accuracy: 0.9883\n",
            "Epoch 8/10\n",
            "600/600 [==============================] - 3s 4ms/step - loss: 0.0085 - accuracy: 0.9976 - val_loss: 0.0554 - val_accuracy: 0.9852\n",
            "Epoch 9/10\n",
            "600/600 [==============================] - 3s 4ms/step - loss: 0.0104 - accuracy: 0.9972 - val_loss: 0.0443 - val_accuracy: 0.9889\n",
            "Epoch 10/10\n",
            "600/600 [==============================] - 2s 4ms/step - loss: 0.0068 - accuracy: 0.9987 - val_loss: 0.0487 - val_accuracy: 0.9862\n",
            "188/188 [==============================] - 1s 3ms/step - loss: 0.0516 - accuracy: 0.9866\n",
            "[CV] ....... activation=tanh, epochs=10, optimizer=Adam, total=  27.1s\n",
            "[CV] activation=tanh, epochs=10, optimizer=Adam ......................\n",
            "Epoch 1/10\n",
            "600/600 [==============================] - 3s 4ms/step - loss: 0.4591 - accuracy: 0.8720 - val_loss: 0.0723 - val_accuracy: 0.9807\n",
            "Epoch 2/10\n",
            "600/600 [==============================] - 2s 4ms/step - loss: 0.0610 - accuracy: 0.9832 - val_loss: 0.0566 - val_accuracy: 0.9826\n",
            "Epoch 3/10\n",
            "600/600 [==============================] - 3s 4ms/step - loss: 0.0428 - accuracy: 0.9876 - val_loss: 0.0474 - val_accuracy: 0.9864\n",
            "Epoch 4/10\n",
            "600/600 [==============================] - 3s 4ms/step - loss: 0.0289 - accuracy: 0.9916 - val_loss: 0.0448 - val_accuracy: 0.9866\n",
            "Epoch 5/10\n",
            "600/600 [==============================] - 2s 4ms/step - loss: 0.0213 - accuracy: 0.9948 - val_loss: 0.0466 - val_accuracy: 0.9873\n",
            "Epoch 6/10\n",
            "600/600 [==============================] - 2s 4ms/step - loss: 0.0155 - accuracy: 0.9953 - val_loss: 0.0493 - val_accuracy: 0.9860\n",
            "Epoch 7/10\n",
            "600/600 [==============================] - 3s 4ms/step - loss: 0.0125 - accuracy: 0.9964 - val_loss: 0.0515 - val_accuracy: 0.9861\n",
            "Epoch 8/10\n",
            "600/600 [==============================] - 3s 4ms/step - loss: 0.0095 - accuracy: 0.9974 - val_loss: 0.0481 - val_accuracy: 0.9872\n",
            "Epoch 9/10\n",
            "600/600 [==============================] - 3s 5ms/step - loss: 0.0098 - accuracy: 0.9972 - val_loss: 0.0477 - val_accuracy: 0.9875\n",
            "Epoch 10/10\n",
            "600/600 [==============================] - 3s 4ms/step - loss: 0.0058 - accuracy: 0.9988 - val_loss: 0.0570 - val_accuracy: 0.9848\n",
            "188/188 [==============================] - 1s 3ms/step - loss: 0.0603 - accuracy: 0.9830\n",
            "[CV] ....... activation=tanh, epochs=10, optimizer=Adam, total=  27.1s\n",
            "[CV] activation=tanh, epochs=10, optimizer=Adam ......................\n",
            "Epoch 1/10\n",
            "600/600 [==============================] - 3s 5ms/step - loss: 0.4617 - accuracy: 0.8682 - val_loss: 0.0843 - val_accuracy: 0.9750\n",
            "Epoch 2/10\n",
            "600/600 [==============================] - 3s 4ms/step - loss: 0.0619 - accuracy: 0.9818 - val_loss: 0.0595 - val_accuracy: 0.9812\n",
            "Epoch 3/10\n",
            "600/600 [==============================] - 3s 4ms/step - loss: 0.0436 - accuracy: 0.9868 - val_loss: 0.0555 - val_accuracy: 0.9831\n",
            "Epoch 4/10\n",
            "600/600 [==============================] - 3s 4ms/step - loss: 0.0302 - accuracy: 0.9909 - val_loss: 0.0548 - val_accuracy: 0.9837\n",
            "Epoch 5/10\n",
            "600/600 [==============================] - 3s 4ms/step - loss: 0.0212 - accuracy: 0.9937 - val_loss: 0.0668 - val_accuracy: 0.9797\n",
            "Epoch 6/10\n",
            "600/600 [==============================] - 3s 4ms/step - loss: 0.0161 - accuracy: 0.9954 - val_loss: 0.0620 - val_accuracy: 0.9801\n",
            "Epoch 7/10\n",
            "600/600 [==============================] - 3s 4ms/step - loss: 0.0145 - accuracy: 0.9954 - val_loss: 0.0500 - val_accuracy: 0.9847\n",
            "Epoch 8/10\n",
            "600/600 [==============================] - 2s 4ms/step - loss: 0.0096 - accuracy: 0.9974 - val_loss: 0.0494 - val_accuracy: 0.9851\n",
            "Epoch 9/10\n",
            "600/600 [==============================] - 2s 4ms/step - loss: 0.0082 - accuracy: 0.9975 - val_loss: 0.0434 - val_accuracy: 0.9873\n",
            "Epoch 10/10\n",
            "600/600 [==============================] - 2s 4ms/step - loss: 0.0086 - accuracy: 0.9975 - val_loss: 0.0527 - val_accuracy: 0.9858\n",
            "188/188 [==============================] - 1s 3ms/step - loss: 0.0419 - accuracy: 0.9892\n",
            "[CV] ....... activation=tanh, epochs=10, optimizer=Adam, total=  27.0s\n",
            "Epoch 1/10\n"
          ],
          "name": "stdout"
        },
        {
          "output_type": "stream",
          "text": [
            "[Parallel(n_jobs=1)]: Done  40 out of  40 | elapsed: 13.6min finished\n"
          ],
          "name": "stderr"
        },
        {
          "output_type": "stream",
          "text": [
            "750/750 [==============================] - 4s 4ms/step - loss: 0.4653 - accuracy: 0.8496 - val_loss: 0.0651 - val_accuracy: 0.9809\n",
            "Epoch 2/10\n",
            "750/750 [==============================] - 3s 4ms/step - loss: 0.0586 - accuracy: 0.9822 - val_loss: 0.0501 - val_accuracy: 0.9859\n",
            "Epoch 3/10\n",
            "750/750 [==============================] - 3s 4ms/step - loss: 0.0385 - accuracy: 0.9873 - val_loss: 0.0489 - val_accuracy: 0.9851\n",
            "Epoch 4/10\n",
            "750/750 [==============================] - 3s 5ms/step - loss: 0.0264 - accuracy: 0.9914 - val_loss: 0.0382 - val_accuracy: 0.9902\n",
            "Epoch 5/10\n",
            "750/750 [==============================] - 3s 4ms/step - loss: 0.0199 - accuracy: 0.9936 - val_loss: 0.0474 - val_accuracy: 0.9892\n",
            "Epoch 6/10\n",
            "750/750 [==============================] - 3s 4ms/step - loss: 0.0186 - accuracy: 0.9945 - val_loss: 0.0360 - val_accuracy: 0.9909\n",
            "Epoch 7/10\n",
            "750/750 [==============================] - 3s 4ms/step - loss: 0.0130 - accuracy: 0.9962 - val_loss: 0.0454 - val_accuracy: 0.9898\n",
            "Epoch 8/10\n",
            "750/750 [==============================] - 3s 4ms/step - loss: 0.0091 - accuracy: 0.9973 - val_loss: 0.0437 - val_accuracy: 0.9907\n",
            "Epoch 9/10\n",
            "750/750 [==============================] - 3s 4ms/step - loss: 0.0067 - accuracy: 0.9979 - val_loss: 0.0467 - val_accuracy: 0.9912\n",
            "Epoch 10/10\n",
            "750/750 [==============================] - 3s 4ms/step - loss: 0.0085 - accuracy: 0.9970 - val_loss: 0.0551 - val_accuracy: 0.9889\n"
          ],
          "name": "stdout"
        },
        {
          "output_type": "execute_result",
          "data": {
            "text/plain": [
              "GridSearchCV(cv=5, error_score=nan,\n",
              "             estimator=<tensorflow.python.keras.wrappers.scikit_learn.KerasClassifier object at 0x7f4c37126910>,\n",
              "             iid='deprecated', n_jobs=1,\n",
              "             param_grid={'activation': ['relu', 'tanh'], 'epochs': [5, 10],\n",
              "                         'optimizer': ['rmsprop', 'Adam']},\n",
              "             pre_dispatch='2*n_jobs', refit=True, return_train_score=False,\n",
              "             scoring=None, verbose=2)"
            ]
          },
          "metadata": {
            "tags": []
          },
          "execution_count": 10
        }
      ]
    },
    {
      "cell_type": "code",
      "metadata": {
        "colab": {
          "base_uri": "https://localhost:8080/"
        },
        "id": "pO02Tgk377Os",
        "outputId": "94e1267a-7aaf-4796-d90b-6b3511c9a76f"
      },
      "source": [
        "grid_search.best_score_"
      ],
      "execution_count": null,
      "outputs": [
        {
          "output_type": "execute_result",
          "data": {
            "text/plain": [
              "0.9883833289146423"
            ]
          },
          "metadata": {
            "tags": []
          },
          "execution_count": 11
        }
      ]
    },
    {
      "cell_type": "code",
      "metadata": {
        "colab": {
          "base_uri": "https://localhost:8080/"
        },
        "id": "SNPwZkIP7-9l",
        "outputId": "eb530afa-123d-4d7a-c422-ee0b5ee30903"
      },
      "source": [
        "grid_search.best_params_"
      ],
      "execution_count": null,
      "outputs": [
        {
          "output_type": "execute_result",
          "data": {
            "text/plain": [
              "{'activation': 'relu', 'epochs': 10, 'optimizer': 'rmsprop'}"
            ]
          },
          "metadata": {
            "tags": []
          },
          "execution_count": 12
        }
      ]
    },
    {
      "cell_type": "code",
      "metadata": {
        "colab": {
          "base_uri": "https://localhost:8080/"
        },
        "id": "YqMuxMJA83ih",
        "outputId": "5828ccb7-4aa3-4ee8-a273-2857e0e5939a"
      },
      "source": [
        "model = exercise1('relu')\n",
        "model.compile(optimizer='rmsprop', \n",
        "              loss='categorical_crossentropy',\n",
        "              metrics=['accuracy'])\n",
        "history = model.fit(train_images, train_labels, epochs=10, batch_size=64, validation_split=0.2)"
      ],
      "execution_count": null,
      "outputs": [
        {
          "output_type": "stream",
          "text": [
            "Epoch 1/10\n",
            "750/750 [==============================] - 4s 4ms/step - loss: 0.4469 - accuracy: 0.8616 - val_loss: 0.0664 - val_accuracy: 0.9795\n",
            "Epoch 2/10\n",
            "750/750 [==============================] - 3s 4ms/step - loss: 0.0550 - accuracy: 0.9828 - val_loss: 0.0512 - val_accuracy: 0.9861\n",
            "Epoch 3/10\n",
            "750/750 [==============================] - 3s 4ms/step - loss: 0.0362 - accuracy: 0.9880 - val_loss: 0.0434 - val_accuracy: 0.9880\n",
            "Epoch 4/10\n",
            "750/750 [==============================] - 3s 4ms/step - loss: 0.0262 - accuracy: 0.9919 - val_loss: 0.0407 - val_accuracy: 0.9901\n",
            "Epoch 5/10\n",
            "750/750 [==============================] - 3s 4ms/step - loss: 0.0215 - accuracy: 0.9933 - val_loss: 0.0436 - val_accuracy: 0.9899\n",
            "Epoch 6/10\n",
            "750/750 [==============================] - 3s 4ms/step - loss: 0.0169 - accuracy: 0.9950 - val_loss: 0.0395 - val_accuracy: 0.9883\n",
            "Epoch 7/10\n",
            "750/750 [==============================] - 3s 5ms/step - loss: 0.0111 - accuracy: 0.9966 - val_loss: 0.0484 - val_accuracy: 0.9888\n",
            "Epoch 8/10\n",
            "750/750 [==============================] - 3s 4ms/step - loss: 0.0100 - accuracy: 0.9969 - val_loss: 0.0477 - val_accuracy: 0.9902\n",
            "Epoch 9/10\n",
            "750/750 [==============================] - 3s 4ms/step - loss: 0.0078 - accuracy: 0.9976 - val_loss: 0.0563 - val_accuracy: 0.9880\n",
            "Epoch 10/10\n",
            "750/750 [==============================] - 3s 4ms/step - loss: 0.0071 - accuracy: 0.9977 - val_loss: 0.0585 - val_accuracy: 0.9894\n"
          ],
          "name": "stdout"
        }
      ]
    },
    {
      "cell_type": "code",
      "metadata": {
        "colab": {
          "base_uri": "https://localhost:8080/"
        },
        "id": "qrnGFH95ESiI",
        "outputId": "0ec6e90a-8038-4438-c805-dc74219a5f44"
      },
      "source": [
        "test_loss, test_acc = model.evaluate(test_images, test_labels)\n",
        "test_acc"
      ],
      "execution_count": null,
      "outputs": [
        {
          "output_type": "stream",
          "text": [
            "313/313 [==============================] - 1s 2ms/step - loss: 0.0456 - accuracy: 0.9900\n"
          ],
          "name": "stdout"
        },
        {
          "output_type": "execute_result",
          "data": {
            "text/plain": [
              "0.9900000095367432"
            ]
          },
          "metadata": {
            "tags": []
          },
          "execution_count": 15
        }
      ]
    },
    {
      "cell_type": "code",
      "metadata": {
        "colab": {
          "base_uri": "https://localhost:8080/",
          "height": 545
        },
        "id": "9ikj2pagESy3",
        "outputId": "30635cbb-bda0-4d3d-ed78-47f78681e501"
      },
      "source": [
        "import matplotlib.pyplot as plt\n",
        "\n",
        "acc = history.history['accuracy']\n",
        "val_acc = history.history['val_accuracy']\n",
        "loss = history.history['loss']\n",
        "val_loss = history.history['val_loss']\n",
        "\n",
        "epochs = range(1, len(acc) + 1)\n",
        "\n",
        "plt.plot(epochs, acc, 'bo', label='Training acc')\n",
        "plt.plot(epochs, val_acc, 'b', label='Validation acc')\n",
        "plt.title('Training and validation accuracy')\n",
        "plt.legend()\n",
        "\n",
        "plt.figure()\n",
        "\n",
        "plt.plot(epochs, loss, 'bo', label='Training loss')\n",
        "plt.plot(epochs, val_loss, 'b', label='Validation loss')\n",
        "plt.title('Training and validation loss')\n",
        "plt.legend()\n",
        "\n",
        "plt.show()"
      ],
      "execution_count": null,
      "outputs": [
        {
          "output_type": "display_data",
          "data": {
            "image/png": "[encoded data removed]",
            "text/plain": [
              "<Figure size 432x288 with 1 Axes>"
            ]
          },
          "metadata": {
            "tags": [],
            "needs_background": "light"
          }
        },
        {
          "output_type": "display_data",
          "data": {
            "image/png": "[encoded data removed]",
            "text/plain": [
              "<Figure size 432x288 with 1 Axes>"
            ]
          },
          "metadata": {
            "tags": [],
            "needs_background": "light"
          }
        }
      ]
    },
    {
      "cell_type": "code",
      "metadata": {
        "id": "GipjbIHqQs4H"
      },
      "source": [
        "import pandas as pd\n",
        "grid_results = pd.DataFrame(grid_search.cv_results_)"
      ],
      "execution_count": null,
      "outputs": []
    },
    {
      "cell_type": "code",
      "metadata": {
        "colab": {
          "base_uri": "https://localhost:8080/",
          "height": 793
        },
        "id": "TcGxQepsQt6N",
        "outputId": "d19656a2-dad8-4b4b-afe2-82385f701628"
      },
      "source": [
        "grid_results"
      ],
      "execution_count": null,
      "outputs": [
        {
          "output_type": "execute_result",
          "data": {
            "text/html": [
              "<div>\n",
              "<style scoped>\n",
              "    .dataframe tbody tr th:only-of-type {\n",
              "        vertical-align: middle;\n",
              "    }\n",
              "\n",
              "    .dataframe tbody tr th {\n",
              "        vertical-align: top;\n",
              "    }\n",
              "\n",
              "    .dataframe thead th {\n",
              "        text-align: right;\n",
              "    }\n",
              "</style>\n",
              "<table border=\"1\" class=\"dataframe\">\n",
              "  <thead>\n",
              "    <tr style=\"text-align: right;\">\n",
              "      <th></th>\n",
              "      <th>mean_fit_time</th>\n",
              "      <th>std_fit_time</th>\n",
              "      <th>mean_score_time</th>\n",
              "      <th>std_score_time</th>\n",
              "      <th>param_activation</th>\n",
              "      <th>param_epochs</th>\n",
              "      <th>param_optimizer</th>\n",
              "      <th>params</th>\n",
              "      <th>split0_test_score</th>\n",
              "      <th>split1_test_score</th>\n",
              "      <th>split2_test_score</th>\n",
              "      <th>split3_test_score</th>\n",
              "      <th>split4_test_score</th>\n",
              "      <th>mean_test_score</th>\n",
              "      <th>std_test_score</th>\n",
              "      <th>rank_test_score</th>\n",
              "    </tr>\n",
              "  </thead>\n",
              "  <tbody>\n",
              "    <tr>\n",
              "      <th>0</th>\n",
              "      <td>13.451987</td>\n",
              "      <td>0.187093</td>\n",
              "      <td>0.711897</td>\n",
              "      <td>0.024392</td>\n",
              "      <td>relu</td>\n",
              "      <td>5</td>\n",
              "      <td>rmsprop</td>\n",
              "      <td>{'activation': 'relu', 'epochs': 5, 'optimizer...</td>\n",
              "      <td>0.987000</td>\n",
              "      <td>0.990417</td>\n",
              "      <td>0.986083</td>\n",
              "      <td>0.987667</td>\n",
              "      <td>0.987333</td>\n",
              "      <td>0.987700</td>\n",
              "      <td>0.001457</td>\n",
              "      <td>4</td>\n",
              "    </tr>\n",
              "    <tr>\n",
              "      <th>1</th>\n",
              "      <td>12.351657</td>\n",
              "      <td>0.134493</td>\n",
              "      <td>0.682236</td>\n",
              "      <td>0.019508</td>\n",
              "      <td>relu</td>\n",
              "      <td>5</td>\n",
              "      <td>Adam</td>\n",
              "      <td>{'activation': 'relu', 'epochs': 5, 'optimizer...</td>\n",
              "      <td>0.986250</td>\n",
              "      <td>0.989833</td>\n",
              "      <td>0.979667</td>\n",
              "      <td>0.979417</td>\n",
              "      <td>0.987000</td>\n",
              "      <td>0.984433</td>\n",
              "      <td>0.004170</td>\n",
              "      <td>8</td>\n",
              "    </tr>\n",
              "    <tr>\n",
              "      <th>2</th>\n",
              "      <td>26.177941</td>\n",
              "      <td>0.385384</td>\n",
              "      <td>0.704100</td>\n",
              "      <td>0.018219</td>\n",
              "      <td>relu</td>\n",
              "      <td>10</td>\n",
              "      <td>rmsprop</td>\n",
              "      <td>{'activation': 'relu', 'epochs': 10, 'optimize...</td>\n",
              "      <td>0.988750</td>\n",
              "      <td>0.992583</td>\n",
              "      <td>0.986333</td>\n",
              "      <td>0.985250</td>\n",
              "      <td>0.989000</td>\n",
              "      <td>0.988383</td>\n",
              "      <td>0.002537</td>\n",
              "      <td>1</td>\n",
              "    </tr>\n",
              "    <tr>\n",
              "      <th>3</th>\n",
              "      <td>24.498889</td>\n",
              "      <td>0.216222</td>\n",
              "      <td>0.693315</td>\n",
              "      <td>0.016239</td>\n",
              "      <td>relu</td>\n",
              "      <td>10</td>\n",
              "      <td>Adam</td>\n",
              "      <td>{'activation': 'relu', 'epochs': 10, 'optimize...</td>\n",
              "      <td>0.989000</td>\n",
              "      <td>0.990333</td>\n",
              "      <td>0.987583</td>\n",
              "      <td>0.985333</td>\n",
              "      <td>0.988750</td>\n",
              "      <td>0.988200</td>\n",
              "      <td>0.001679</td>\n",
              "      <td>2</td>\n",
              "    </tr>\n",
              "    <tr>\n",
              "      <th>4</th>\n",
              "      <td>14.123541</td>\n",
              "      <td>0.308136</td>\n",
              "      <td>0.718995</td>\n",
              "      <td>0.032497</td>\n",
              "      <td>tanh</td>\n",
              "      <td>5</td>\n",
              "      <td>rmsprop</td>\n",
              "      <td>{'activation': 'tanh', 'epochs': 5, 'optimizer...</td>\n",
              "      <td>0.985417</td>\n",
              "      <td>0.982417</td>\n",
              "      <td>0.986417</td>\n",
              "      <td>0.984583</td>\n",
              "      <td>0.984917</td>\n",
              "      <td>0.984750</td>\n",
              "      <td>0.001321</td>\n",
              "      <td>7</td>\n",
              "    </tr>\n",
              "    <tr>\n",
              "      <th>5</th>\n",
              "      <td>13.052823</td>\n",
              "      <td>0.333553</td>\n",
              "      <td>0.697452</td>\n",
              "      <td>0.037246</td>\n",
              "      <td>tanh</td>\n",
              "      <td>5</td>\n",
              "      <td>Adam</td>\n",
              "      <td>{'activation': 'tanh', 'epochs': 5, 'optimizer...</td>\n",
              "      <td>0.987083</td>\n",
              "      <td>0.985500</td>\n",
              "      <td>0.985500</td>\n",
              "      <td>0.982583</td>\n",
              "      <td>0.986333</td>\n",
              "      <td>0.985400</td>\n",
              "      <td>0.001527</td>\n",
              "      <td>6</td>\n",
              "    </tr>\n",
              "    <tr>\n",
              "      <th>6</th>\n",
              "      <td>28.179797</td>\n",
              "      <td>0.263469</td>\n",
              "      <td>0.692685</td>\n",
              "      <td>0.008468</td>\n",
              "      <td>tanh</td>\n",
              "      <td>10</td>\n",
              "      <td>rmsprop</td>\n",
              "      <td>{'activation': 'tanh', 'epochs': 10, 'optimize...</td>\n",
              "      <td>0.989417</td>\n",
              "      <td>0.989583</td>\n",
              "      <td>0.988333</td>\n",
              "      <td>0.985750</td>\n",
              "      <td>0.987500</td>\n",
              "      <td>0.988117</td>\n",
              "      <td>0.001405</td>\n",
              "      <td>3</td>\n",
              "    </tr>\n",
              "    <tr>\n",
              "      <th>7</th>\n",
              "      <td>26.136947</td>\n",
              "      <td>0.273603</td>\n",
              "      <td>0.721142</td>\n",
              "      <td>0.019539</td>\n",
              "      <td>tanh</td>\n",
              "      <td>10</td>\n",
              "      <td>Adam</td>\n",
              "      <td>{'activation': 'tanh', 'epochs': 10, 'optimize...</td>\n",
              "      <td>0.988750</td>\n",
              "      <td>0.988250</td>\n",
              "      <td>0.986583</td>\n",
              "      <td>0.983000</td>\n",
              "      <td>0.989167</td>\n",
              "      <td>0.987150</td>\n",
              "      <td>0.002253</td>\n",
              "      <td>5</td>\n",
              "    </tr>\n",
              "  </tbody>\n",
              "</table>\n",
              "</div>"
            ],
            "text/plain": [
              "   mean_fit_time  std_fit_time  ...  std_test_score  rank_test_score\n",
              "0      13.451987      0.187093  ...        0.001457                4\n",
              "1      12.351657      0.134493  ...        0.004170                8\n",
              "2      26.177941      0.385384  ...        0.002537                1\n",
              "3      24.498889      0.216222  ...        0.001679                2\n",
              "4      14.123541      0.308136  ...        0.001321                7\n",
              "5      13.052823      0.333553  ...        0.001527                6\n",
              "6      28.179797      0.263469  ...        0.001405                3\n",
              "7      26.136947      0.273603  ...        0.002253                5\n",
              "\n",
              "[8 rows x 16 columns]"
            ]
          },
          "metadata": {
            "tags": []
          },
          "execution_count": 20
        }
      ]
    }
  ]
}