{
  "nbformat": 4,
  "nbformat_minor": 0,
  "metadata": {
    "colab": {
      "name": "bank_classification.ipynb",
      "provenance": [],
      "include_colab_link": true
    },
    "kernelspec": {
      "display_name": "Python 3",
      "language": "python",
      "name": "python3"
    },
    "language_info": {
      "codemirror_mode": {
        "name": "ipython",
        "version": 3
      },
      "file_extension": ".py",
      "mimetype": "text/x-python",
      "name": "python",
      "nbconvert_exporter": "python",
      "pygments_lexer": "ipython3",
      "version": "3.8.5"
    }
  },
  "cells": [
    {
      "cell_type": "markdown",
      "metadata": {
        "id": "view-in-github",
        "colab_type": "text"
      },
      "source": [
        "<a href=\"https://colab.research.google.com/github/mohini111/CE888_lab/blob/main/LAB3.ipynb\" target=\"_parent\"><img src=\"https://colab.research.google.com/assets/colab-badge.svg\" alt=\"Open In Colab\"/></a>"
      ]
    },
    {
      "cell_type": "code",
      "metadata": {
        "id": "Yx8kEla93iGj"
      },
      "source": [
        "import matplotlib.pyplot as plt\n",
        "import numpy as np\n",
        "import pandas as pd\n",
        "\n",
        "from sklearn.dummy import DummyClassifier\n",
        "from sklearn.ensemble import RandomForestClassifier\n",
        "from sklearn.metrics import f1_score, plot_confusion_matrix, SCORERS\n",
        "from sklearn.model_selection import cross_val_score\n",
        "from sklearn.model_selection import GridSearchCV\n",
        "from sklearn.model_selection import train_test_split\n",
        "from sklearn.preprocessing import LabelEncoder"
      ],
      "execution_count": null,
      "outputs": []
    },
    {
      "cell_type": "code",
      "metadata": {
        "id": "MEJs7w6y3iGr"
      },
      "source": [
        "df_raw = pd.read_csv('https://github.com/albanda/CE888/raw/master/lab3/bank-additional-full.csv', delimiter = ';')\n",
        "df = df_raw.drop(['duration'], axis=1)"
      ],
      "execution_count": null,
      "outputs": []
    },
    {
      "cell_type": "code",
      "metadata": {
        "id": "KJckfSNQ3iGr",
        "outputId": "f6b78382-cde1-4290-a0a3-d8682937be25"
      },
      "source": [
        "#check for empty rows\n",
        "print(\"Number of rows before dropping NaNs: %d\" % len(df))\n",
        "df = df.dropna()\n",
        "print(\"Number of rows after dropping NaNs: %d\" % len(df))"
      ],
      "execution_count": null,
      "outputs": [
        {
          "output_type": "stream",
          "text": [
            "Number of rows before dropping NaNs: 41188\n",
            "Number of rows after dropping NaNs: 41188\n"
          ],
          "name": "stdout"
        }
      ]
    },
    {
      "cell_type": "code",
      "metadata": {
        "id": "hwRTX1AdHiwa",
        "outputId": "6cf06096-f362-4cf4-a271-f6fe97295bcd"
      },
      "source": [
        "df.head()"
      ],
      "execution_count": null,
      "outputs": [
        {
          "output_type": "execute_result",
          "data": {
            "text/html": [
              "<div>\n",
              "<style scoped>\n",
              "    .dataframe tbody tr th:only-of-type {\n",
              "        vertical-align: middle;\n",
              "    }\n",
              "\n",
              "    .dataframe tbody tr th {\n",
              "        vertical-align: top;\n",
              "    }\n",
              "\n",
              "    .dataframe thead th {\n",
              "        text-align: right;\n",
              "    }\n",
              "</style>\n",
              "<table border=\"1\" class=\"dataframe\">\n",
              "  <thead>\n",
              "    <tr style=\"text-align: right;\">\n",
              "      <th></th>\n",
              "      <th>age</th>\n",
              "      <th>job</th>\n",
              "      <th>marital</th>\n",
              "      <th>education</th>\n",
              "      <th>default</th>\n",
              "      <th>housing</th>\n",
              "      <th>loan</th>\n",
              "      <th>contact</th>\n",
              "      <th>month</th>\n",
              "      <th>day_of_week</th>\n",
              "      <th>campaign</th>\n",
              "      <th>pdays</th>\n",
              "      <th>previous</th>\n",
              "      <th>poutcome</th>\n",
              "      <th>emp.var.rate</th>\n",
              "      <th>cons.price.idx</th>\n",
              "      <th>cons.conf.idx</th>\n",
              "      <th>euribor3m</th>\n",
              "      <th>nr.employed</th>\n",
              "      <th>y</th>\n",
              "    </tr>\n",
              "  </thead>\n",
              "  <tbody>\n",
              "    <tr>\n",
              "      <th>0</th>\n",
              "      <td>56</td>\n",
              "      <td>housemaid</td>\n",
              "      <td>married</td>\n",
              "      <td>basic.4y</td>\n",
              "      <td>no</td>\n",
              "      <td>no</td>\n",
              "      <td>no</td>\n",
              "      <td>telephone</td>\n",
              "      <td>may</td>\n",
              "      <td>mon</td>\n",
              "      <td>1</td>\n",
              "      <td>999</td>\n",
              "      <td>0</td>\n",
              "      <td>nonexistent</td>\n",
              "      <td>1.1</td>\n",
              "      <td>93.994</td>\n",
              "      <td>-36.4</td>\n",
              "      <td>4.857</td>\n",
              "      <td>5191.0</td>\n",
              "      <td>no</td>\n",
              "    </tr>\n",
              "    <tr>\n",
              "      <th>1</th>\n",
              "      <td>57</td>\n",
              "      <td>services</td>\n",
              "      <td>married</td>\n",
              "      <td>high.school</td>\n",
              "      <td>unknown</td>\n",
              "      <td>no</td>\n",
              "      <td>no</td>\n",
              "      <td>telephone</td>\n",
              "      <td>may</td>\n",
              "      <td>mon</td>\n",
              "      <td>1</td>\n",
              "      <td>999</td>\n",
              "      <td>0</td>\n",
              "      <td>nonexistent</td>\n",
              "      <td>1.1</td>\n",
              "      <td>93.994</td>\n",
              "      <td>-36.4</td>\n",
              "      <td>4.857</td>\n",
              "      <td>5191.0</td>\n",
              "      <td>no</td>\n",
              "    </tr>\n",
              "    <tr>\n",
              "      <th>2</th>\n",
              "      <td>37</td>\n",
              "      <td>services</td>\n",
              "      <td>married</td>\n",
              "      <td>high.school</td>\n",
              "      <td>no</td>\n",
              "      <td>yes</td>\n",
              "      <td>no</td>\n",
              "      <td>telephone</td>\n",
              "      <td>may</td>\n",
              "      <td>mon</td>\n",
              "      <td>1</td>\n",
              "      <td>999</td>\n",
              "      <td>0</td>\n",
              "      <td>nonexistent</td>\n",
              "      <td>1.1</td>\n",
              "      <td>93.994</td>\n",
              "      <td>-36.4</td>\n",
              "      <td>4.857</td>\n",
              "      <td>5191.0</td>\n",
              "      <td>no</td>\n",
              "    </tr>\n",
              "    <tr>\n",
              "      <th>3</th>\n",
              "      <td>40</td>\n",
              "      <td>admin.</td>\n",
              "      <td>married</td>\n",
              "      <td>basic.6y</td>\n",
              "      <td>no</td>\n",
              "      <td>no</td>\n",
              "      <td>no</td>\n",
              "      <td>telephone</td>\n",
              "      <td>may</td>\n",
              "      <td>mon</td>\n",
              "      <td>1</td>\n",
              "      <td>999</td>\n",
              "      <td>0</td>\n",
              "      <td>nonexistent</td>\n",
              "      <td>1.1</td>\n",
              "      <td>93.994</td>\n",
              "      <td>-36.4</td>\n",
              "      <td>4.857</td>\n",
              "      <td>5191.0</td>\n",
              "      <td>no</td>\n",
              "    </tr>\n",
              "    <tr>\n",
              "      <th>4</th>\n",
              "      <td>56</td>\n",
              "      <td>services</td>\n",
              "      <td>married</td>\n",
              "      <td>high.school</td>\n",
              "      <td>no</td>\n",
              "      <td>no</td>\n",
              "      <td>yes</td>\n",
              "      <td>telephone</td>\n",
              "      <td>may</td>\n",
              "      <td>mon</td>\n",
              "      <td>1</td>\n",
              "      <td>999</td>\n",
              "      <td>0</td>\n",
              "      <td>nonexistent</td>\n",
              "      <td>1.1</td>\n",
              "      <td>93.994</td>\n",
              "      <td>-36.4</td>\n",
              "      <td>4.857</td>\n",
              "      <td>5191.0</td>\n",
              "      <td>no</td>\n",
              "    </tr>\n",
              "  </tbody>\n",
              "</table>\n",
              "</div>"
            ],
            "text/plain": [
              "   age        job  marital    education  default housing loan    contact  \\\n",
              "0   56  housemaid  married     basic.4y       no      no   no  telephone   \n",
              "1   57   services  married  high.school  unknown      no   no  telephone   \n",
              "2   37   services  married  high.school       no     yes   no  telephone   \n",
              "3   40     admin.  married     basic.6y       no      no   no  telephone   \n",
              "4   56   services  married  high.school       no      no  yes  telephone   \n",
              "\n",
              "  month day_of_week  campaign  pdays  previous     poutcome  emp.var.rate  \\\n",
              "0   may         mon         1    999         0  nonexistent           1.1   \n",
              "1   may         mon         1    999         0  nonexistent           1.1   \n",
              "2   may         mon         1    999         0  nonexistent           1.1   \n",
              "3   may         mon         1    999         0  nonexistent           1.1   \n",
              "4   may         mon         1    999         0  nonexistent           1.1   \n",
              "\n",
              "   cons.price.idx  cons.conf.idx  euribor3m  nr.employed   y  \n",
              "0          93.994          -36.4      4.857       5191.0  no  \n",
              "1          93.994          -36.4      4.857       5191.0  no  \n",
              "2          93.994          -36.4      4.857       5191.0  no  \n",
              "3          93.994          -36.4      4.857       5191.0  no  \n",
              "4          93.994          -36.4      4.857       5191.0  no  "
            ]
          },
          "metadata": {
            "tags": []
          },
          "execution_count": 4
        }
      ]
    },
    {
      "cell_type": "code",
      "metadata": {
        "id": "z9We-Ubb3iGt"
      },
      "source": [
        "features = [col for col in df.columns[:-1]] # each column except the last one\n",
        "outcomes_of_interest = ['y']\n",
        "cat_features = [col for col in df.columns[1:10]] + ['poutcome']"
      ],
      "execution_count": null,
      "outputs": []
    },
    {
      "cell_type": "code",
      "metadata": {
        "id": "MNmpldN13iGt"
      },
      "source": [
        "df[outcomes_of_interest] = df[outcomes_of_interest].apply(LabelEncoder().fit_transform)"
      ],
      "execution_count": null,
      "outputs": []
    },
    {
      "cell_type": "code",
      "metadata": {
        "id": "mw2ObM893iGt"
      },
      "source": [
        "X_df = df[features].copy()\n",
        "y_df = df[outcomes_of_interest].copy()\n",
        "X_df = pd.get_dummies(X_df, columns=cat_features)"
      ],
      "execution_count": null,
      "outputs": []
    },
    {
      "cell_type": "code",
      "metadata": {
        "id": "zVsRXGdj3iGu",
        "outputId": "92e3ce4a-6fbc-4673-c2b2-475e6263d8e4"
      },
      "source": [
        "X = X_df.values\n",
        "y = y_df.values.T[0]\n",
        "\n",
        "y_df.value_counts().plot(kind='bar')"
      ],
      "execution_count": null,
      "outputs": [
        {
          "output_type": "execute_result",
          "data": {
            "text/plain": [
              "<AxesSubplot:xlabel='y'>"
            ]
          },
          "metadata": {
            "tags": []
          },
          "execution_count": 8
        },
        {
          "output_type": "display_data",
          "data": {
            "image/png": "[encoded data removed]",
            "text/plain": [
              "<Figure size 432x288 with 1 Axes>"
            ]
          },
          "metadata": {
            "tags": [],
            "needs_background": "light"
          }
        }
      ]
    },
    {
      "cell_type": "code",
      "metadata": {
        "id": "6v4IfmSQ3iGu"
      },
      "source": [
        "def imbalanceratio(negative, positive):\n",
        "    return negative/positive"
      ],
      "execution_count": null,
      "outputs": []
    },
    {
      "cell_type": "code",
      "metadata": {
        "id": "eAySJcRT3iGu",
        "outputId": "77834361-c29a-41be-e43e-efbf4e2aaa55"
      },
      "source": [
        "imbalanceratio(y_df.value_counts()[1], y_df.value_counts()[0])"
      ],
      "execution_count": null,
      "outputs": [
        {
          "output_type": "execute_result",
          "data": {
            "text/plain": [
              "0.126956331399803"
            ]
          },
          "metadata": {
            "tags": []
          },
          "execution_count": 10
        }
      ]
    },
    {
      "cell_type": "code",
      "metadata": {
        "id": "5G_sI5yc3iGv",
        "outputId": "87ced2e6-388b-4dd4-a2e0-3c7a9140253f"
      },
      "source": [
        "X_train, X_test, y_train, y_test = train_test_split(X, y, test_size=0.2, random_state=50, stratify=y)\n",
        "X_train.shape, X_test.shape, y_train.shape, y_test.shape"
      ],
      "execution_count": null,
      "outputs": [
        {
          "output_type": "execute_result",
          "data": {
            "text/plain": [
              "((32950, 62), (8238, 62), (32950,), (8238,))"
            ]
          },
          "metadata": {
            "tags": []
          },
          "execution_count": 13
        }
      ]
    },
    {
      "cell_type": "code",
      "metadata": {
        "id": "Ge7z3HSt3iGv",
        "outputId": "687d34cd-449f-498f-8a19-d1d7008ec2b2"
      },
      "source": [
        "dummy_clf = DummyClassifier(strategy='stratified')\n",
        "dummy_clf.fit(X_train, y_train)\n",
        "print(\"Dummy F1 Score: %.2f\" % f1_score(y_test, dummy_clf.predict(X_test)))"
      ],
      "execution_count": null,
      "outputs": [
        {
          "output_type": "stream",
          "text": [
            "Dummy F1 Score: 0.13\n"
          ],
          "name": "stdout"
        }
      ]
    },
    {
      "cell_type": "code",
      "metadata": {
        "id": "ksBGad6M3iGw",
        "outputId": "5515525b-607b-49dc-dccc-214421272211"
      },
      "source": [
        "SCORERS.keys()"
      ],
      "execution_count": null,
      "outputs": [
        {
          "output_type": "execute_result",
          "data": {
            "text/plain": [
              "dict_keys(['explained_variance', 'r2', 'max_error', 'neg_median_absolute_error', 'neg_mean_absolute_error', 'neg_mean_absolute_percentage_error', 'neg_mean_squared_error', 'neg_mean_squared_log_error', 'neg_root_mean_squared_error', 'neg_mean_poisson_deviance', 'neg_mean_gamma_deviance', 'accuracy', 'top_k_accuracy', 'roc_auc', 'roc_auc_ovr', 'roc_auc_ovo', 'roc_auc_ovr_weighted', 'roc_auc_ovo_weighted', 'balanced_accuracy', 'average_precision', 'neg_log_loss', 'neg_brier_score', 'adjusted_rand_score', 'rand_score', 'homogeneity_score', 'completeness_score', 'v_measure_score', 'mutual_info_score', 'adjusted_mutual_info_score', 'normalized_mutual_info_score', 'fowlkes_mallows_score', 'precision', 'precision_macro', 'precision_micro', 'precision_samples', 'precision_weighted', 'recall', 'recall_macro', 'recall_micro', 'recall_samples', 'recall_weighted', 'f1', 'f1_macro', 'f1_micro', 'f1_samples', 'f1_weighted', 'jaccard', 'jaccard_macro', 'jaccard_micro', 'jaccard_samples', 'jaccard_weighted'])"
            ]
          },
          "metadata": {
            "tags": []
          },
          "execution_count": 15
        }
      ]
    },
    {
      "cell_type": "code",
      "metadata": {
        "id": "LvGksueB3iGw"
      },
      "source": [
        "def cvscore(estimator, depth, state=50, folds=10):\n",
        "    cv = cross_val_score(RandomForestClassifier(n_estimators=estimator, max_depth=depth, random_state=state), X_train, y_train, cv=folds, scoring='f1')\n",
        "    print((\"F1 Score: %.2f\" % (cv.mean())))"
      ],
      "execution_count": null,
      "outputs": []
    },
    {
      "cell_type": "code",
      "metadata": {
        "id": "Sn945lAf3iGw",
        "outputId": "e873216d-af8e-4129-f579-02f6f8b4efd7"
      },
      "source": [
        "cvscore(100, 3)"
      ],
      "execution_count": null,
      "outputs": [
        {
          "output_type": "stream",
          "text": [
            "F1 Score: 0.26\n"
          ],
          "name": "stdout"
        }
      ]
    },
    {
      "cell_type": "code",
      "metadata": {
        "id": "RqUFJf263iGx",
        "outputId": "e0bdb310-653f-4abf-85c2-98f08d47e09b"
      },
      "source": [
        "# Create the parameter grid\n",
        "param_grid = {\n",
        "     'n_estimators': [100, 200],\n",
        "     'max_depth': [3, 4],\n",
        "}\n",
        "# Create a base model\n",
        "rf = RandomForestClassifier(random_state = 42, class_weight='balanced')\n",
        "# Instantiate the grid search model\n",
        "grid_search = GridSearchCV(estimator= rf, param_grid=param_grid, cv = 5, scoring='f1', n_jobs=-1, verbose=2)\n",
        "grid_search.fit(X_train, y_train)"
      ],
      "execution_count": null,
      "outputs": [
        {
          "output_type": "stream",
          "text": [
            "Fitting 5 folds for each of 4 candidates, totalling 20 fits\n"
          ],
          "name": "stdout"
        },
        {
          "output_type": "execute_result",
          "data": {
            "text/plain": [
              "GridSearchCV(cv=5,\n",
              "             estimator=RandomForestClassifier(class_weight='balanced',\n",
              "                                              random_state=42),\n",
              "             n_jobs=-1,\n",
              "             param_grid={'max_depth': [3, 4], 'n_estimators': [100, 200]},\n",
              "             scoring='f1', verbose=2)"
            ]
          },
          "metadata": {
            "tags": []
          },
          "execution_count": 20
        }
      ]
    },
    {
      "cell_type": "code",
      "metadata": {
        "id": "XPY0gbAy3iGx",
        "outputId": "6018be5a-7ce7-4fd0-955b-2dd2042cf9bf"
      },
      "source": [
        "grid_search.best_params_"
      ],
      "execution_count": null,
      "outputs": [
        {
          "output_type": "execute_result",
          "data": {
            "text/plain": [
              "{'max_depth': 4, 'n_estimators': 200}"
            ]
          },
          "metadata": {
            "tags": []
          },
          "execution_count": 21
        }
      ]
    },
    {
      "cell_type": "code",
      "metadata": {
        "id": "5UiO5Cif3iGx"
      },
      "source": [
        "df_results = pd.DataFrame(grid_search.cv_results_)"
      ],
      "execution_count": null,
      "outputs": []
    },
    {
      "cell_type": "code",
      "metadata": {
        "id": "NFqvBqJV3iGy",
        "outputId": "e4778b3c-d25b-4d11-fa31-05d9e63ad3b6"
      },
      "source": [
        "grid_search.best_score_"
      ],
      "execution_count": null,
      "outputs": [
        {
          "output_type": "execute_result",
          "data": {
            "text/plain": [
              "0.3982515804617738"
            ]
          },
          "metadata": {
            "tags": []
          },
          "execution_count": 23
        }
      ]
    },
    {
      "cell_type": "code",
      "metadata": {
        "id": "zbpYzB1W3iGy",
        "outputId": "a43b1734-9bd3-49ef-a994-e3c0243c0e0b"
      },
      "source": [
        "print(\"F1 Score: %.2f\" % f1_score(y_test, grid_search.predict(X_test)))"
      ],
      "execution_count": null,
      "outputs": [
        {
          "output_type": "stream",
          "text": [
            "F1 Score: 0.40\n"
          ],
          "name": "stdout"
        }
      ]
    },
    {
      "cell_type": "code",
      "metadata": {
        "id": "sMB859qU3iGy"
      },
      "source": [
        "def best_x_features(x):\n",
        "    for i in range(x):\n",
        "        print(X_df.columns[[sorted(importance_sorted, reverse=True)[i][1]]])"
      ],
      "execution_count": null,
      "outputs": []
    },
    {
      "cell_type": "code",
      "metadata": {
        "id": "SjxfE5Ax3iGy"
      },
      "source": [
        "def genenralizationerror(classifier):\n",
        "    y_bias = (np.nanmean(y_test) - np.nanmean(classifier.predict(X_test), axis=0)) **2\n",
        "    y_error = np.nanmean((y_test - classifier.predict(X_test)) **2, axis=0)#.mean()\n",
        "    y_var = np.nanvar(classifier.predict(X_test), axis=0, ddof = 1)\n",
        "    print(np.nanmean(y_bias) +  np.nanmean(y_var))\n",
        "    clf_type = \"Decision tree\"\n",
        "    print(\"{0}: {1:.4f} (error) = {2:.4f} (bias^2) \"\n",
        "              \"+ {3:.4f} (var)\".format(clf_type, np.nanmean(y_error), np.nanmean(y_bias), np.nanmean(y_var)))\n",
        "    print(\"{0}: {1:.4f} ((bias^2) + (var)) = {2:.4f} (bias^2) \"\n",
        "              \"+ {3:.4f} (var)\".format(clf_type, np.mean(y_bias) + np.mean(y_var), np.mean(y_bias), np.mean(y_var)))"
      ],
      "execution_count": null,
      "outputs": []
    },
    {
      "cell_type": "code",
      "metadata": {
        "id": "mw7ZpfL53iGz",
        "outputId": "cb9993cc-b20c-4679-89d6-0da7229ded20"
      },
      "source": [
        "importance = grid_search.best_estimator_.feature_importances_\n",
        "importance_sorted = []\n",
        "for i,v in enumerate(importance):\n",
        "    importance_sorted.append((v,i))\n",
        "# plot feature importance\n",
        "plt.bar([x for x in range(len(importance))], importance)\n",
        "plt.show()\n",
        "sorted(importance_sorted, reverse=True)"
      ],
      "execution_count": null,
      "outputs": [
        {
          "output_type": "display_data",
          "data": {
            "image/png": "[encoded data removed]",
            "text/plain": [
              "<Figure size 432x288 with 1 Axes>"
            ]
          },
          "metadata": {
            "tags": [],
            "needs_background": "light"
          }
        },
        {
          "output_type": "execute_result",
          "data": {
            "text/plain": [
              "[(0.18581903294658172, 7),\n",
              " (0.17113656122106766, 8),\n",
              " (0.1485875519448057, 4),\n",
              " (0.07831391114885342, 6),\n",
              " (0.07529166653261632, 2),\n",
              " (0.0585725747323048, 61),\n",
              " (0.04736285270758213, 5),\n",
              " (0.03133860538170112, 43),\n",
              " (0.02958911079764431, 42),\n",
              " (0.025774214439775157, 3),\n",
              " (0.02552749878412503, 50),\n",
              " (0.02370600257741562, 60),\n",
              " (0.015671698242683302, 33),\n",
              " (0.013805820565514089, 0),\n",
              " (0.012571690984776838, 34),\n",
              " (0.008163556671584261, 49),\n",
              " (0.007548653246298557, 44),\n",
              " (0.007529935946439721, 52),\n",
              " (0.00453451407481155, 1),\n",
              " (0.003529385623192027, 53),\n",
              " (0.003426076928341215, 14),\n",
              " (0.0032588625042718066, 59),\n",
              " (0.0031418865172834483, 10),\n",
              " (0.0024945153201218575, 48),\n",
              " (0.0024521213434284058, 17),\n",
              " (0.0018027697265658419, 47),\n",
              " (0.0013195139810531994, 46),\n",
              " (0.0011830700646092616, 31),\n",
              " (0.0011484985206405619, 45),\n",
              " (0.000766476570743641, 27),\n",
              " (0.0007101811229687843, 51),\n",
              " (0.0006123413908306419, 23),\n",
              " (0.0003176158400330417, 22),\n",
              " (0.00028516475184458656, 55),\n",
              " (0.00026125219196326946, 54),\n",
              " (0.00018631257764347963, 16),\n",
              " (0.00018179023691373628, 25),\n",
              " (0.0001468796405723222, 11),\n",
              " (0.00014284798474753697, 15),\n",
              " (0.0001387152480885703, 12),\n",
              " (0.0001385914169380404, 26),\n",
              " (0.00012451059228485407, 57),\n",
              " (0.0001224168285755105, 13),\n",
              " (0.00011634553672499122, 20),\n",
              " (0.00010530543462482575, 39),\n",
              " (0.00010348510382434604, 9),\n",
              " (9.608454207430249e-05, 28),\n",
              " (9.460157557704517e-05, 37),\n",
              " (8.881232649133488e-05, 21),\n",
              " (6.844802422896767e-05, 40),\n",
              " (6.820044124548232e-05, 19),\n",
              " (6.660435323915544e-05, 41),\n",
              " (6.35212632845626e-05, 18),\n",
              " (6.221639935493633e-05, 24),\n",
              " (6.207220280076096e-05, 58),\n",
              " (6.078616561815683e-05, 56),\n",
              " (5.8892383928937366e-05, 32),\n",
              " (4.9356021986469834e-05, 36),\n",
              " (4.2816464778767886e-05, 38),\n",
              " (2.7801197420512575e-05, 30),\n",
              " (2.740069255964225e-05, 29),\n",
              " (0.0, 35)]"
            ]
          },
          "metadata": {
            "tags": []
          },
          "execution_count": 27
        }
      ]
    },
    {
      "cell_type": "code",
      "metadata": {
        "id": "RcOLa-o53iGz",
        "outputId": "36606616-7f5a-4a53-e3e9-51cdea3a375d"
      },
      "source": [
        "best_x_features(3)"
      ],
      "execution_count": null,
      "outputs": [
        {
          "output_type": "stream",
          "text": [
            "Index(['euribor3m'], dtype='object')\n",
            "Index(['nr.employed'], dtype='object')\n",
            "Index(['emp.var.rate'], dtype='object')\n"
          ],
          "name": "stdout"
        }
      ]
    },
    {
      "cell_type": "code",
      "metadata": {
        "id": "cyBAwHLL3iGz",
        "outputId": "538b9d02-6b41-4af5-d863-87f13f8fd1c3"
      },
      "source": [
        "genenralizationerror(grid_search)"
      ],
      "execution_count": null,
      "outputs": [
        {
          "output_type": "stream",
          "text": [
            "0.23135762741025195\n",
            "Decision tree: 0.2376 (error) = 0.0288 (bias^2) + 0.2026 (var)\n",
            "Decision tree: 0.2314 ((bias^2) + (var)) = 0.0288 (bias^2) + 0.2026 (var)\n"
          ],
          "name": "stdout"
        }
      ]
    },
    {
      "cell_type": "code",
      "metadata": {
        "id": "fpHXX6jc3iG0",
        "outputId": "ab44eac2-502f-410b-817f-9f5047637293"
      },
      "source": [
        "plot_confusion_matrix(grid_search, X, y, cmap=plt.cm.Blues)\n",
        "plt.show()"
      ],
      "execution_count": null,
      "outputs": [
        {
          "output_type": "display_data",
          "data": {
            "image/png": "[encoded data removed]",
            "text/plain": [
              "<Figure size 432x288 with 2 Axes>"
            ]
          },
          "metadata": {
            "tags": [],
            "needs_background": "light"
          }
        }
      ]
    },
    {
      "cell_type": "markdown",
      "metadata": {
        "id": "FlVP6TMQ3iG0"
      },
      "source": [
        "## Quiz"
      ]
    },
    {
      "cell_type": "code",
      "metadata": {
        "id": "g5wDOAKE3iG0"
      },
      "source": [
        "def RFQuiz(n_estimators, max_depth, random_state):\n",
        "    RF = RandomForestClassifier(n_estimators=n_estimators, max_depth=max_depth, random_state=random_state)\n",
        "    RF.fit(X_train, y_train)\n",
        "    RF.predict(X_test)\n",
        "    print(\"F1 Score: %.2f\" % f1_score(y_test, RF.predict(X_test)))\n",
        "    return RF"
      ],
      "execution_count": null,
      "outputs": []
    },
    {
      "cell_type": "code",
      "metadata": {
        "id": "y1WmKXsH3iG0",
        "outputId": "6dc4f5ca-0da9-4feb-d9a1-1d1feec3c204"
      },
      "source": [
        "cvscore(300, 6)"
      ],
      "execution_count": null,
      "outputs": [
        {
          "output_type": "stream",
          "text": [
            "F1 Score: 0.28\n"
          ],
          "name": "stdout"
        }
      ]
    },
    {
      "cell_type": "code",
      "metadata": {
        "id": "2B0xuewo3iG1",
        "outputId": "95c29347-eadb-4f26-f6dd-1072b969392b"
      },
      "source": [
        "cvscore(250, 6)"
      ],
      "execution_count": null,
      "outputs": [
        {
          "output_type": "stream",
          "text": [
            "F1 Score: 0.28\n"
          ],
          "name": "stdout"
        }
      ]
    },
    {
      "cell_type": "code",
      "metadata": {
        "id": "7XnUNtqv3iG1",
        "outputId": "eaa2396e-4178-41de-8e60-ce22d210e84d"
      },
      "source": [
        "RFQuiz(1000, 8, 60)"
      ],
      "execution_count": null,
      "outputs": [
        {
          "output_type": "stream",
          "text": [
            "F1 Score: 0.33\n"
          ],
          "name": "stdout"
        },
        {
          "output_type": "execute_result",
          "data": {
            "text/plain": [
              "RandomForestClassifier(max_depth=8, n_estimators=1000, random_state=60)"
            ]
          },
          "metadata": {
            "tags": []
          },
          "execution_count": 34
        }
      ]
    },
    {
      "cell_type": "code",
      "metadata": {
        "id": "eWFe3OsB3iG1",
        "outputId": "9b7de214-9f98-4684-df50-6d024dfd8456"
      },
      "source": [
        "importance = RFQuiz(300, 12, 60).feature_importances_\n",
        "importance_sorted = []\n",
        "for i,v in enumerate(importance):\n",
        "    importance_sorted.append((v,i))\n",
        "# plot feature importance\n",
        "plt.bar([x for x in range(len(importance))], importance)\n",
        "plt.show()\n",
        "sorted(importance_sorted, reverse=True)"
      ],
      "execution_count": null,
      "outputs": [
        {
          "output_type": "stream",
          "text": [
            "F1 Score: 0.37\n"
          ],
          "name": "stdout"
        },
        {
          "output_type": "display_data",
          "data": {
            "image/png": "[encoded data removed]",
            "text/plain": [
              "<Figure size 432x288 with 1 Axes>"
            ]
          },
          "metadata": {
            "tags": [],
            "needs_background": "light"
          }
        },
        {
          "output_type": "execute_result",
          "data": {
            "text/plain": [
              "[(0.1377797819953523, 7),\n",
              " (0.11692728722385545, 8),\n",
              " (0.07401743620618534, 2),\n",
              " (0.06978387385403358, 61),\n",
              " (0.06136299013262599, 4),\n",
              " (0.06016619676183461, 0),\n",
              " (0.05554340279758939, 6),\n",
              " (0.04897915171607266, 5),\n",
              " (0.02630804436668193, 1),\n",
              " (0.025350875715854836, 3),\n",
              " (0.016381711117331506, 59),\n",
              " (0.014781772023583965, 60),\n",
              " (0.013437985880937723, 52),\n",
              " (0.012811341176162191, 49),\n",
              " (0.012810392740654269, 43),\n",
              " (0.01235650801647128, 50),\n",
              " (0.012290151011588797, 42),\n",
              " (0.01037130140043358, 55),\n",
              " (0.009046646865404795, 31),\n",
              " (0.008521076030657453, 38),\n",
              " (0.008431097982839883, 36),\n",
              " (0.008163850193999542, 56),\n",
              " (0.007796162028052489, 54),\n",
              " (0.007610582791731387, 23),\n",
              " (0.007522588966208642, 57),\n",
              " (0.007449667159404616, 22),\n",
              " (0.0074373927700695334, 44),\n",
              " (0.0072479004735506065, 28),\n",
              " (0.007053950652373452, 58),\n",
              " (0.006952476394268106, 9),\n",
              " (0.006846941259566019, 39),\n",
              " (0.006599864709721944, 10),\n",
              " (0.0062503262715499375, 14),\n",
              " (0.006243569755776649, 41),\n",
              " (0.006189616558043596, 18),\n",
              " (0.006004522879525173, 30),\n",
              " (0.005529218094718943, 27),\n",
              " (0.00551790536611742, 48),\n",
              " (0.005392146844134306, 17),\n",
              " (0.005188943552742863, 33),\n",
              " (0.004944510799703547, 21),\n",
              " (0.004916414187208884, 34),\n",
              " (0.004758769802576962, 25),\n",
              " (0.004537661212513118, 53),\n",
              " (0.00416425661436899, 16),\n",
              " (0.004157721197001202, 32),\n",
              " (0.00395607572875711, 13),\n",
              " (0.0034227093552682895, 26),\n",
              " (0.00340454122382498, 19),\n",
              " (0.0032650680856898696, 15),\n",
              " (0.0030755889519834046, 51),\n",
              " (0.0030033587683615153, 45),\n",
              " (0.003002263908945484, 47),\n",
              " (0.002564570633887686, 12),\n",
              " (0.002527762070509222, 37),\n",
              " (0.0025157326355761712, 40),\n",
              " (0.002300985892062418, 11),\n",
              " (0.002203605207297878, 20),\n",
              " (0.0017233131868596755, 46),\n",
              " (0.0008043855421621072, 24),\n",
              " (0.00029396327316484627, 29),\n",
              " (8.99845698016533e-08, 35)]"
            ]
          },
          "metadata": {
            "tags": []
          },
          "execution_count": 35
        }
      ]
    },
    {
      "cell_type": "code",
      "metadata": {
        "id": "MpZhE3n23iG1",
        "outputId": "b442c7fb-baab-4c41-b2a5-fab02c65c852"
      },
      "source": [
        "best_x_features(3)"
      ],
      "execution_count": null,
      "outputs": [
        {
          "output_type": "stream",
          "text": [
            "Index(['euribor3m'], dtype='object')\n",
            "Index(['nr.employed'], dtype='object')\n",
            "Index(['pdays'], dtype='object')\n"
          ],
          "name": "stdout"
        }
      ]
    },
    {
      "cell_type": "code",
      "metadata": {
        "id": "18UP60xIHixL"
      },
      "source": [
        ""
      ],
      "execution_count": null,
      "outputs": []
    }
  ]
}